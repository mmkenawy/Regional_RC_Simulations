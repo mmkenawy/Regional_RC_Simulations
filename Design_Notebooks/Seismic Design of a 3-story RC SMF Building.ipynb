{
 "cells": [
  {
   "cell_type": "markdown",
   "metadata": {},
   "source": [
    "# Structural design of a 3-story reinforced concrete special moment frame building in Berkeley, CA\n",
    "\n",
    "Notes:\n",
    "\n",
    "- Following the ASCE 7-16 provisions for determining loads, and ACI 318-14 for concrete design.\n",
    "- Following the design example of the 2015 NEHRP Seismic Provisions with adjustments to comply with ASCE 7-16 and ACI 318-14\n",
    "- Near fault sites: (with 15 km of an active fault capable of M7, or 10 km of an active fault capable of M6 - with exceptions in ASCE 7-16)\n",
    "- Reinforced concrete frame members not designed as part of the seismic force-resisting system shall comply with Section 18.14 of ACI 318.\n",
    "\n",
    "Design parameters:\n",
    "\n",
    "- Location: Berkeley, CA\n",
    "- Site class: C (very dense soil and soft rock)\n",
    "- Risk Category: II\n",
    "- Importance factor = 1.0\n",
    "- Seismic response spectral parameters were obtained from the ATC hazard by location map (according to ASCE 7-16)\n",
    "\n",
    "- The building height is under 160 ft tall, and has no structural irregularities. Therefore, the building is permitted to be analyzed using ELF (ASCE 7-16 table 12.6.1)\n",
    "- The building is designed to resist the seismic forces using all interior and exterior frames in each orthogonal direction.\n",
    "- The building will be designed using the ELF procedure because the building height does not exceed 161 ft, and has no structural irregularities (ASCE 7-16 table 12.6-1)\n",
    "\n",
    "Structural modeling:\n",
    "The following reduction factors were applied to the moment of interia of the model sections to account for cracking, presence of axial loads and loading duration effects (creep): 0.5 for columns, and 0.3 for beams."
   ]
  },
  {
   "cell_type": "code",
   "execution_count": 1,
   "metadata": {
    "scrolled": true
   },
   "outputs": [],
   "source": [
    "# units\n",
    "inch = 1.0;\n",
    "kip = 1.0;\n",
    "sec = 1.0;\n",
    "ft = 12*inch;\n",
    "lb = kip/1000;\n",
    "ksi = 1.0;\n",
    "psi = ksi/1000;\n",
    "psf = ksi/1000/(12*12);\n",
    "pcf = kip/1000/(12*12*12);\n",
    "\n",
    "# normal weight concrete\n",
    "rcdensity = 150*pcf;\n",
    "lam = 1.0;\n",
    "g = 386.1*inch/(sec**2)"
   ]
  },
  {
   "cell_type": "code",
   "execution_count": 2,
   "metadata": {
    "scrolled": true
   },
   "outputs": [
    {
     "name": "stdout",
     "output_type": "stream",
     "text": [
      "minimum slab thickness =  8.7  inches\n"
     ]
    }
   ],
   "source": [
    "# Building Geometric Parameters\n",
    "import numpy as np\n",
    "\n",
    "Nstory = 3;\n",
    "Nbayx = 4;\n",
    "Nbayy = 4;\n",
    "Wbayx = 24*ft;\n",
    "Wbayy = Wbayx;\n",
    "Hcol1 = 18*ft;\n",
    "Hcol = 13*ft;\n",
    "Lbeam = Wbayx;\n",
    "\n",
    "# Assume these dimensions for now\n",
    "hbeam = 32*inch;\n",
    "bbeam = 22*inch;\n",
    "dcol = 28*inch;\n",
    "bcol = dcol;\n",
    "\n",
    "\n",
    "I_reduction_col = 0.5 # a little different than ACI 318 factors\n",
    "I_reduction_beam = 0.3\n",
    "\n",
    "Ncol = 25; # for this building, assume two corner columns at each corner (to maintain separate lateral load\n",
    "# resisting frames)\n",
    "Nframe = 5; # Number of frames carrying the seismic weight per direction\n",
    "\n",
    "#######################################################################################\n",
    "# ARE YOU DESIGNING AN INTERIOR OR EXTERIOR FRAME?\n",
    "Ext_fac = 1.0; # for interior frame, Ext_fac = 1.0; for exterior frame, Ext_fac = 0.5;\n",
    "#######################################################################################\n",
    "\n",
    "Hbuilding = Hcol1 + Hcol*(Nstory - 1);\n",
    "\n",
    "Lstory = np.empty(Nstory)\n",
    "Lstory[0] = Hcol1\n",
    "Lstory[1:] = Hcol\n",
    "\n",
    "# material properties\n",
    "## normal weight concrete\n",
    "fc = 5*ksi\n",
    "fy = 60*ksi\n",
    "Est = 29000*ksi\n",
    "\n",
    "\n",
    "# Slab thickness is determined using table 8.3.1.1 (ACI-318-14) - also check table 8.3.1.2\n",
    "# for Steel grade 60\n",
    "tmin = Lbeam/33; print('minimum slab thickness = ',round(tmin,1),' inches')\n",
    "tslab = 8*inch;\n"
   ]
  },
  {
   "cell_type": "code",
   "execution_count": 3,
   "metadata": {
    "scrolled": true
   },
   "outputs": [],
   "source": [
    "# Dimensional limits for beams of special moment frames\n",
    "clear_span = Lbeam - dcol\n",
    "if clear_span < 4*hbeam:\n",
    "    print('INCREASE SPAN OR DECREASE BEAM DEPTH')\n",
    "    \n",
    "bbeam_min = min(0.3*hbeam,10)\n",
    "if bbeam < bbeam_min:\n",
    "    print('INCREASE BEAM WIDTH')\n",
    "\n",
    "# If the width of the beam exceeds the width of the supporting column, check the requirements of ACI 318-14 section 18.6.2.1\n",
    "\n",
    "# Dimensional limits for columns\n",
    "if dcol < 12.0:\n",
    "    print('INCREASE COLUMN DIMENSION')\n",
    "if bcol < 12.0:\n",
    "    print('INCREASE COLUMN DIMENSION')"
   ]
  },
  {
   "cell_type": "markdown",
   "metadata": {},
   "source": [
    "## 1. Seismic Design Requirements"
   ]
  },
  {
   "cell_type": "code",
   "execution_count": 4,
   "metadata": {
    "scrolled": true
   },
   "outputs": [
    {
     "name": "stdout",
     "output_type": "stream",
     "text": [
      "Response spectral acceleration parameters adjusted for site effects\n",
      "S_ms =  2.5848\n",
      "S_m1 =  1.162\n",
      "Design spectral acceleration parameters\n",
      "S_DS =  1.723\n",
      "S_D1 =  0.775\n"
     ]
    }
   ],
   "source": [
    "Ss = 2.154 # Short period MCE response spectral acceleration (USGS hazard tools)\n",
    "S1 = 0.83 # 1-sec period MCE response spectral acceleration\n",
    "Fa = 1.2 # Short period site coefficient - ASCE7-16 Table 11.4-1\n",
    "Fv = 1.4 # 1-sec period site coefficient - ASCE7-16 Table 11.4-1\n",
    "\n",
    "print ('Response spectral acceleration parameters adjusted for site effects')\n",
    "S_ms = Fa*Ss; print ('S_ms = ',S_ms)\n",
    "S_m1 = Fv*S1; print ('S_m1 = ',S_m1)\n",
    "\n",
    "print ('Design spectral acceleration parameters')\n",
    "S_DS = round(2/3*S_ms,3); print ('S_DS = ',S_DS)\n",
    "S_D1 = round(2/3*S_m1,3); print ('S_D1 = ',S_D1)"
   ]
  },
  {
   "cell_type": "code",
   "execution_count": 46,
   "metadata": {},
   "outputs": [
    {
     "name": "stdout",
     "output_type": "stream",
     "text": [
      "T0 =  0.08996\n",
      "TS =  0.4498\n"
     ]
    },
    {
     "data": {
      "image/png": "[encoded data removed]",
      "text/plain": [
       "<Figure size 432x288 with 1 Axes>"
      ]
     },
     "metadata": {
      "needs_background": "light"
     },
     "output_type": "display_data"
    }
   ],
   "source": [
    "# create the response spectrum plot\n",
    "\n",
    "import matplotlib.pyplot as plt\n",
    "\n",
    "## determine period limits first\n",
    "T0 = round(0.2*S_D1/S_DS,5); print('T0 = ',T0)\n",
    "TS = round(S_D1/S_DS,5); print('TS = ',TS)\n",
    "TL = 8 # Long period transition period (USGS hazard tools - ATC hazard map or ASCE7-16)\n",
    "\n",
    "# design response spectrum\n",
    "T = np.arange(0.,10.,0.01)\n",
    "Sa = np.empty(len(T))\n",
    "\n",
    "for i in range (0,len(T)):\n",
    "    if T[i] < T0:\n",
    "        Sa[i] = S_DS*(0.4 + 0.6*(T[i]/T0))\n",
    "    elif T[i] >= T0 and T[i] < TS:\n",
    "        Sa[i] = S_DS\n",
    "    elif T[i] > TS and T[i] <= TL:\n",
    "        Sa[i] = S_D1/T[i]\n",
    "    else:\n",
    "        Sa[i] = S_D1*TL/(T[i]**2)\n",
    "\n",
    "plt.plot(T,Sa)\n",
    "plt.xlim([0,10])\n",
    "plt.xlabel('Period (sec)')\n",
    "plt.ylabel('Spectral Acceleration Sa (g)')\n",
    "plt.title('Design Response Spectrum');"
   ]
  },
  {
   "cell_type": "code",
   "execution_count": 6,
   "metadata": {
    "scrolled": true
   },
   "outputs": [],
   "source": [
    "# Determine seismic design category (section 11.6 - ASCE 7-16)\n",
    "I = 1.0 # importance factor\n",
    "# Risk Category II buildings with S1 >= 0.75 -> Seismic Design Category E\n",
    "\n",
    "# Structural system design parameters (table 12.2-1 - ASCE 7-16)\n",
    "# system: Special RC moment frame\n",
    "# requirement sections: 12.2.5.5 and 14.2\n",
    "R = 8 # response modification factor\n",
    "omega = 3 # overstrength factor\n",
    "Cd = 5.5 # deflection amplification factor\n",
    "\n",
    "# Allowable interstory drift limit\n",
    "delta_a = 0.02\n",
    "\n",
    "# no torsional irregularity\n",
    "# It is assumed (and will be verified later) that no soft/weak story irregularity exists.\n",
    "# Assumed redunduncy factor\n",
    "rho = 1.0\n",
    "\n",
    "# write the scaled design response spectrum for MRSA\n",
    "file1 = open(r'RS.txt','w+')\n",
    "for i in range(0,len(T)):\n",
    "    file1.write(str(round(T[i],2))+'     '+str(round(Sa[i]/(R/I),3))+'\\n')\n",
    "file1.close()"
   ]
  },
  {
   "cell_type": "markdown",
   "metadata": {},
   "source": [
    "## 2. Determination of Seismic Forces\n",
    "\n",
    "Assumptions:\n",
    "- The building is analyzed using the ELF method only.\n",
    "- Because the building is symmetric in configuration, no horizontal irregularities of the types listed in table 12.3-1 exist; therefore, the building is modeled using a 2D representation\n",
    "- For the purpose of determining the diaphragm flexibility, the span of the diahphragm should be considered as the distance between the lateral-load resisting elements. In this case, the span-to-depth ratio of the diagphram is 1.0; therefore, a rigid diaphragm assumption is permitted.\n"
   ]
  },
  {
   "cell_type": "code",
   "execution_count": 7,
   "metadata": {
    "scrolled": true
   },
   "outputs": [
    {
     "name": "stdout",
     "output_type": "stream",
     "text": [
      "Slab imposed dead loads in kip/inch^2 - typical floor =  0.00017650462962962965\n",
      "Slab imposed dead loads in kip/inch^2 - first floor =  0.00018373842592592593\n",
      "Slab imposed dead loads in kip/inch^2 - roof floor =  0.00015769675925925928\n",
      "Slab live loads in kip/inch^2 - typical floor =  0.00034722222222222224\n",
      "Slab live loads in kip/inch^2 - roof floor =  0.0001388888888888889\n"
     ]
    }
   ],
   "source": [
    "# Preliminary member sizing\n",
    "# To determine preliminary sizes, analyze the building using approximate analysis methods under the appropriate\n",
    "# combinations of dead, live and seismic loads\n",
    "# This is actually not necessary, but I just like doing it the way Amit Kanvinde taught me for steel design\n",
    "\n",
    "# Compute dead and live loads\n",
    "perimeter = (Wbayx*Nbayx + Wbayy*Nbayy)*2;\n",
    "Area = Nbayx*Wbayx * Nbayy*Wbayy;\n",
    "\n",
    "frame_area = Ext_fac*Wbayx*Wbayy*Nbayy;\n",
    "\n",
    "## dead loads\n",
    "DL_slab = tslab*rcdensity;\n",
    "\n",
    "#compute cladding weight (which is actually on the perimeter only but will be distributed to floor)\n",
    "clad_surf = 10*psf; # weight of vertical cladding\n",
    "# assume the cladding is supported at all floors - assign tributary area loads\n",
    "clad_load = clad_surf*Hcol*perimeter;\n",
    "clad_load1 = clad_surf*(Hcol1 + Hcol)/2*perimeter; #first floor\n",
    "clad_loadr = clad_surf*(Hcol/2)*perimeter; #roof\n",
    "\n",
    "# Now distribute to floor area\n",
    "clad = clad_load/Area\n",
    "clad1 = clad_load1/Area\n",
    "cladr = clad_loadr/Area\n",
    "\n",
    "# Other superimposed dead loads\n",
    "partition = 10*psf\n",
    "roof = 10*psf\n",
    "ceil = 10*psf\n",
    "\n",
    "# Total distributed superimposed loads\n",
    "DL_imp = clad + partition + ceil; # typical floor\n",
    "DL_imp1 = clad1 + partition + ceil; # first floor\n",
    "DL_impr = cladr + roof + ceil; #roof\n",
    "print('Slab imposed dead loads in kip/inch^2 - typical floor = ',DL_imp)\n",
    "print('Slab imposed dead loads in kip/inch^2 - first floor = ',DL_imp1)\n",
    "print('Slab imposed dead loads in kip/inch^2 - roof floor = ',DL_impr)\n",
    "\n",
    "# Total distributed dead loads\n",
    "DL = DL_slab + DL_imp; # typical floor \n",
    "DL_1 = DL_slab + DL_imp1; # first floor\n",
    "DL_r = DL_slab + DL_impr; #roof\n",
    "\n",
    "# Beam self weight\n",
    "DL_beamwt = hbeam*bbeam*rcdensity;\n",
    "\n",
    "#Live loads\n",
    "LL = 50*psf; # Office building occupancy level\n",
    "LL_r = 20*psf; # roof\n",
    "print('Slab live loads in kip/inch^2 - typical floor = ',LL)\n",
    "print('Slab live loads in kip/inch^2 - roof floor = ',LL_r)\n",
    "\n",
    "# Reduction is permitted for  live loads but will be ignored for now\n"
   ]
  },
  {
   "cell_type": "code",
   "execution_count": 8,
   "metadata": {},
   "outputs": [
    {
     "name": "stdout",
     "output_type": "stream",
     "text": [
      "For the analysis model:\n",
      "Total slab and superimposed DL on the first floor beam =  0.2529166666666667  kip/in\n",
      "Total slab and superimposed DL on a typical floor beam =  0.25083333333333335  kip/in\n",
      "Total slab and superimposed DL on the roof beam =  0.24541666666666664  kip/in\n",
      "Total slab LL on a typical beam =  0.1  kip/in\n",
      "Total slab LL on the roof beam =  0.04  kip/in \n",
      "\n",
      "additional concentrated loads on columns from orthogonal beams =  17.6 kips\n",
      "Note: THESE LOADS COULD BE ON INTERIOR COLUMNS ONLY OR ALL COLUMNS, DEPENDING ON WHETHER OR NOT THE EXTERIOR\n",
      "      FRAMES ARE SEPARATED \n",
      "\n",
      "For the manual analysis:\n",
      "Analyze a typical frame with the following distributed loads on the beams: \n",
      "DL =  3.7683333333333335  kips/ft\n",
      "LL =  1.2000000000000002  kips/ft\n",
      "Axial loads on an interior first floor column: \n",
      "DL =  357.29333333333335  kips\n",
      "LL =  69.12  kips\n"
     ]
    }
   ],
   "source": [
    "# Compute loads on typical frame beams\n",
    "## A two-way slab is used, so triangular slab tributary areas on beams are appropropriate, but for simplicity,\n",
    "## rectangular loads are used in liu of triangular slab loads\n",
    "\n",
    "# Beam dead loads\n",
    "## \"redistribute slab loads\"\n",
    "#beam_TA = Ext_fac*2*(Wbayx*Wbayy)/4; # tributary area for beam (note: only use this if creating 3D model)\n",
    "beam_TA = Ext_fac*Wbayx*Wbayy; # tributary area for beam\n",
    "DL_beam1 = DL_1*beam_TA/Lbeam; #beam distributed dead load at first floor (heavier than other floors)\n",
    "DL_beam = DL*beam_TA/Lbeam; #beam distributed dead load at typical floor\n",
    "DL_beamr = DL_r*beam_TA/Lbeam; #beam distributed dead load at roof level\n",
    "\n",
    "print('For the analysis model:')\n",
    "print('Total slab and superimposed DL on the first floor beam = ',DL_beam1,' kip/in')\n",
    "print('Total slab and superimposed DL on a typical floor beam = ',DL_beam,' kip/in')\n",
    "print('Total slab and superimposed DL on the roof beam = ',DL_beamr,' kip/in')\n",
    "\n",
    "# total dead load on first floor beam (due to slab and self loads)\n",
    "DL_beam1_tot = DL_beam1 + DL_beamwt;\n",
    "\n",
    "# Beam live loads\n",
    "LL_beam = LL*beam_TA/Lbeam; #beam distributed live load at first floor\n",
    "LL_beamr = LL_r*beam_TA/Lbeam; #beam distributed live load at roof level\n",
    "print('Total slab LL on a typical beam = ',LL_beam,' kip/in')\n",
    "print('Total slab LL on the roof beam = ',LL_beamr,' kip/in \\n')\n",
    "\n",
    "# additional DL from beams running in the orthogonal direction (which will not be modeled explicitly in the 2D model)\n",
    "# add these to the model as concentrated column loads\n",
    "DL_ortho_beams = DL_beamwt*Ext_fac*Lbeam\n",
    "\n",
    "print('additional concentrated loads on columns from orthogonal beams = ',DL_ortho_beams,'kips')\n",
    "print(\"\"\"Note: THESE LOADS COULD BE ON INTERIOR COLUMNS ONLY OR ALL COLUMNS, DEPENDING ON WHETHER OR NOT THE EXTERIOR\n",
    "      FRAMES ARE SEPARATED \\n\"\"\")\n",
    "\n",
    "print('For the manual analysis:')\n",
    "print('Analyze a typical frame with the following distributed loads on the beams: ')\n",
    "print('DL = ',DL_beam1_tot*12,' kips/ft')\n",
    "print('LL = ',LL_beam*12,' kips/ft')\n",
    "\n",
    "# Compute loads on columns\n",
    "## use column tributary areas\n",
    "col_TA = Ext_fac*Wbayx*Wbayy; # Tributary area for an interior column\n",
    "\n",
    "DL_col = DL*col_TA; # DL for a typical column from a single floor\n",
    "DL_col1 = DL_1*col_TA; # DL for the first floor column from a single floor\n",
    "DL_colr = DL_r*col_TA; # DL for the roof column from the roof only\n",
    "\n",
    "\n",
    "# self weight of beam on one column at one floor\n",
    "DL_col_beamwt = DL_beamwt*Lbeam/2*2;\n",
    "\n",
    "# Column self weight - distributed\n",
    "DL_colwt = bcol*dcol*rcdensity;\n",
    "#total self weight at first floor level\n",
    "DL_colwt_tot = DL_colwt*Hbuilding;\n",
    "\n",
    "# total DL on the first floor column\n",
    "DL_col_tot = DL_col*(Nstory - 2) + DL_col1 + DL_colr + DL_colwt_tot + DL_col_beamwt*Nstory + DL_ortho_beams*Nstory;\n",
    "\n",
    "# live loads on column\n",
    "LL_col = LL*col_TA; # DL for a typical column from a single floor\n",
    "LL_colr = LL_r*col_TA; # DL for the roof column from the roof\n",
    "\n",
    "# total LL on the first floor column\n",
    "LL_col_tot = LL_col*(Nstory - 1) + LL_colr;\n",
    "\n",
    "print('Axial loads on an interior first floor column: ')\n",
    "print('DL = ',DL_col_tot,' kips')\n",
    "print('LL = ',LL_col_tot,' kips')"
   ]
  },
  {
   "cell_type": "code",
   "execution_count": 9,
   "metadata": {
    "scrolled": true
   },
   "outputs": [
    {
     "name": "stdout",
     "output_type": "stream",
     "text": [
      "Manual Analysis results:\n",
      "Beam maximum positive moment due to DL =  173.6448 kip.ft\n",
      "Beam maximum negative moment due to DL =  -97.6752 kip.ft\n",
      "Beam maximum positive moment due to LL =  55.296 kip.ft\n",
      "Beam maximum negative moment due to LL =  -31.104 kip.ft\n"
     ]
    }
   ],
   "source": [
    "# Beam moments\n",
    "# Note: getting the moments is easily programmable, but the whole point of preliminary sizing is to make sure you are able to\n",
    "# do quick manual checks when needed, so chop chop\n",
    "# In this case, we are assuming the beam inflection points are at 0.1 L from each joint (half way between fixed and simply\n",
    "# supported)\n",
    "print('Manual Analysis results:')\n",
    "M_DL_pos_manual = 0.08*DL_beam1_tot*Lbeam**2; print('Beam maximum positive moment due to DL = ',M_DL_pos_manual/12, 'kip.ft')\n",
    "M_DL_neg_manual = -0.045*DL_beam1_tot*Lbeam**2; print('Beam maximum negative moment due to DL = ',M_DL_neg_manual/12, 'kip.ft')\n",
    "\n",
    "M_LL_pos_manual = 0.08*LL_beam*Lbeam**2; print('Beam maximum positive moment due to LL = ',M_LL_pos_manual/12, 'kip.ft')\n",
    "M_LL_neg_manual = -0.045*LL_beam*Lbeam**2; print('Beam maximum negative moment due to LL = ',M_LL_neg_manual/12, 'kip.ft')\n"
   ]
  },
  {
   "cell_type": "code",
   "execution_count": 10,
   "metadata": {
    "scrolled": true
   },
   "outputs": [],
   "source": [
    "# SAP2000 model results - 2D analysis\n",
    "# Note: the model has rigid offsets\n",
    "# first floor beam\n",
    "\n",
    "#print('2D SAP model analysis results:')\n",
    "#M_DL_pos = 645.99; print('Beam maximum positive moment due to DL = ',M_DL_pos/12, 'kip.ft')\n",
    "#M_DL_neg = -829.16; print('Beam maximum negative moment due to DL = ',M_DL_neg/12, 'kip.ft')\n",
    "\n",
    "#M_LL_pos = 202.94; print('Beam maximum positive moment due to LL = ',M_LL_pos/12, 'kip.ft')\n",
    "#M_LL_neg = -260.61; print('Beam maximum negative moment due to LL = ',M_LL_neg/12, 'kip.ft')\n",
    "\n",
    "# SAP2000 model results - 3D analysis\n",
    "# Note: the model has rigid offsets\n",
    "# first floor beam\n",
    "\n",
    "#print('3D SAP model analysis results:')\n",
    "#M_DL_pos = 416.2; print('Beam maximum positive moment due to DL = ',M_DL_pos/12, 'kip.ft')\n",
    "#M_DL_neg = -482.0; print('Beam maximum negative moment due to DL = ',M_DL_neg/12, 'kip.ft')\n",
    "\n",
    "#M_LL_pos = 127.9; print('Beam maximum positive moment due to LL = ',M_LL_pos/12, 'kip.ft')\n",
    "#M_LL_neg = -138.5; print('Beam maximum negative moment due to LL = ',M_LL_neg/12, 'kip.ft')\n",
    "\n",
    "# Note that the analysis results from a 3d analysis are almost half those of the 2d analysis, which is to be expected because\n",
    "# the beam tributary loads in the 2D analysis were doubled."
   ]
  },
  {
   "cell_type": "code",
   "execution_count": 11,
   "metadata": {
    "scrolled": false
   },
   "outputs": [
    {
     "name": "stdout",
     "output_type": "stream",
     "text": [
      "Typical floor weight =  2125.2566666666667\n",
      "First floor weight =  2185.8983333333335\n",
      "Roof weight =  1967.5883333333334 \n",
      "\n",
      "Total seismic weight =  6278.743333333334 \n",
      "\n",
      "Typical floor DL on frame =  500.4433333333333\n",
      "First floor DL on frame =  513.0516666666666\n",
      "Roof DL on frame =  467.6616666666667 \n",
      "\n",
      "Number of frames resisting the seismic force =  5\n",
      "Typical floor weight on each frame =  425.05133333333333\n",
      "First floor weight on each frame =  437.1796666666667\n",
      "roof floor weight on each frame =  393.5176666666667\n",
      "Total seismic weight on each frame =  1255.7486666666668 \n",
      "\n",
      "NOTE: THE DL ON A FRAME IS SLIGHTLY DIFFERENT FROM ITS SEISMIC WEIGHT DUE TO TRIBUTARY AREA CALCULATIONS.\n",
      "THE SEISMIC WEIGHT IS USED FOR DETERMINING THE SEISMIC MASS OF THE FRAME, WHEREAS THE DL IS USED FOR THE STABILITY CHECK\n",
      "Typical floor mass per seismic frame =  1.1008840542173874\n",
      "First floor mass per seismic frame =  1.1322964689631356\n",
      "roof mass per seismic frame =  1.1008840542173874 \n",
      "\n",
      "Typical floor nodal mass =  0.22017681084347748\n",
      "First floor nodal mass =  0.22645929379262714\n",
      "roof floor nodal mass =  0.2038423551756885\n"
     ]
    }
   ],
   "source": [
    "# compute building weight\n",
    "\n",
    "# find the total length of all beams per floor\n",
    "Lbeamx = (Nbayy + 1) * Wbayx * Nbayx;\n",
    "Lbeamy = (Nbayx + 1) * Wbayy * Nbayy;\n",
    "\n",
    "#############################################\n",
    "\n",
    "# Compute total loads\n",
    "Wslab = tslab*Area*rcdensity;\n",
    "Wslab_frame = tslab*frame_area*rcdensity;\n",
    "\n",
    "Wimp = DL_imp*Area;\n",
    "Wimp1 = DL_imp1*Area;\n",
    "Wimp_roof = DL_impr*Area;\n",
    "\n",
    "Wimp_frame = DL_imp*frame_area;\n",
    "Wimp1_frame = DL_imp1*frame_area;\n",
    "Wimp_roof_frame = DL_impr*frame_area;\n",
    "\n",
    "Wbeams = (Lbeamx + Lbeamy)* bbeam * hbeam * rcdensity;\n",
    "Wbeams_frame = (Wbayy*Nbayy + (Ext_fac*Wbayx*(Nbayy +1)))* bbeam * hbeam * rcdensity; # this includes the orthogonal beams\n",
    "# within the frame tributary zone\n",
    "\n",
    "Wcols = Hcol*bcol*dcol*rcdensity*Ncol;\n",
    "Wcols1 = (Hcol1 + Hcol)/2*bcol*dcol*rcdensity*Ncol;\n",
    "Wcolsr = (Hcol/2)*bcol*dcol*rcdensity*Ncol;\n",
    "\n",
    "Wcols_frame = Hcol*bcol*dcol*rcdensity*(Nbayy + 1);\n",
    "Wcols1_frame = (Hcol1 + Hcol)/2*bcol*dcol*rcdensity*(Nbayy + 1);\n",
    "Wcolsr_frame = (Hcol/2)*bcol*dcol*rcdensity*(Nbayy + 1);\n",
    "                \n",
    "# Floor weights\n",
    "floorWt = Wslab + Wimp + Wbeams + Wcols; print('Typical floor weight = ',floorWt)\n",
    "floorWt1 = Wslab + Wimp1 + Wbeams + Wcols1; print('First floor weight = ',floorWt1)\n",
    "floorWtr = Wslab + Wimp_roof + Wbeams + Wcolsr; print('Roof weight = ',floorWtr,'\\n')\n",
    "\n",
    "W_seismic = floorWt*(Nstory - 2) + floorWt1 + floorWtr; print('Total seismic weight = ',W_seismic,'\\n')\n",
    "\n",
    "# frame floor weights\n",
    "floorDL_frame = Wslab_frame + Wimp_frame + Wbeams_frame + Wcols_frame; print('Typical floor DL on frame = ',floorDL_frame)\n",
    "floorDL1_frame = Wslab_frame + Wimp1_frame + Wbeams_frame + Wcols1_frame; print('First floor DL on frame = ',floorDL1_frame)\n",
    "floorDLr_frame = Wslab_frame + Wimp_roof_frame + Wbeams_frame + Wcolsr_frame; print('Roof DL on frame = ',floorDLr_frame,'\\n')\n",
    "\n",
    "# Divide the seismic weight over the number of frames resisting the seismic load in each direction\n",
    "print('Number of frames resisting the seismic force = ',Nframe)\n",
    "W_frame_story = floorWt/Nframe; print('Typical floor weight on each frame = ',W_frame_story)\n",
    "W_frame_story1 = floorWt1/Nframe; print('First floor weight on each frame = ',W_frame_story1)\n",
    "W_frame_roof = floorWtr/Nframe; print('roof floor weight on each frame = ',W_frame_roof)\n",
    "W_frame = W_seismic/Nframe;  print('Total seismic weight on each frame = ',W_frame,'\\n')\n",
    "\n",
    "print(\"\"\"NOTE: THE DL ON A FRAME IS SLIGHTLY DIFFERENT FROM ITS SEISMIC WEIGHT DUE TO TRIBUTARY AREA CALCULATIONS.\n",
    "THE SEISMIC WEIGHT IS USED FOR DETERMINING THE SEISMIC MASS OF THE FRAME, WHEREAS THE DL IS USED FOR THE STABILITY CHECK\"\"\")\n",
    "\n",
    "# Compute floor and nodal masses for the analysis model\n",
    "m_frame_story = W_frame_story/g; print('Typical floor mass per seismic frame = ',m_frame_story)\n",
    "m_frame_story1 = W_frame_story1/g; print('First floor mass per seismic frame = ',m_frame_story1)\n",
    "m_frame_roof = W_frame_roof/g; print('roof mass per seismic frame = ',m_frame_story,'\\n')\n",
    "\n",
    "Nnodes = Nbayx + 1;\n",
    "m_node = m_frame_story/Nnodes; print('Typical floor nodal mass = ',m_node)\n",
    "m_node1 = m_frame_story1/Nnodes; print('First floor nodal mass = ',m_node1)\n",
    "m_noder = m_frame_roof/Nnodes; print('roof floor nodal mass = ',m_noder)\n",
    "\n"
   ]
  },
  {
   "cell_type": "markdown",
   "metadata": {},
   "source": [
    "Estimate the building period\n",
    "\n",
    "$T_{approx} = C_t h^x$\n",
    "\n",
    "where $h$ is the structural height and $C_t$ and $x$ can be determined from table 12.8-2\n"
   ]
  },
  {
   "cell_type": "code",
   "execution_count": 12,
   "metadata": {
    "scrolled": true
   },
   "outputs": [
    {
     "name": "stdout",
     "output_type": "stream",
     "text": [
      "The coefficient for upper limit on calculated period Cu =  1.4\n",
      "The approximate building period =  0.482200205908676\n",
      "The maximum allowed building period for design =  0.6750802882721464\n"
     ]
    }
   ],
   "source": [
    "# Estimate the building period\n",
    "\n",
    "Ct = 0.016; # Table 12.8-2\n",
    "x = 0.9; # Table 12.8-2\n",
    "\n",
    "# Compute the coefficient for upper limit on calculated period\n",
    "Cu_val = [1.7,1.6,1.5,1.4]\n",
    "SD1_lim = [0.1,0.15,0.2,0.3]\n",
    "slopes = np.empty(len(Cu_val)-1)\n",
    "\n",
    "for i in range(0,len(Cu_val)-1):\n",
    "    slopes[i] = (Cu_val[i+1] - Cu_val[i]) / (SD1_lim[i+1] - SD1_lim[i]);\n",
    "    \n",
    "if S_D1 <= SD1_lim[0]:\n",
    "    Cu = Cu_val[0]\n",
    "elif S_D1 <= SD1_lim[1]:\n",
    "    Cu = Cu_val[0] + slopes[0]*(S_D1 - SD1_lim[0])\n",
    "elif S_D1 <= SD1_lim[2]:\n",
    "    Cu = Cu_val[1] + slopes[1]*(S_D1 - SD1_lim[1])\n",
    "elif S_D1 <= SD1_lim[3]:\n",
    "    Cu = Cu_val[2] + slopes[2]*(S_D1 - SD1_lim[2])\n",
    "elif S_D1 > SD1_lim[3]:\n",
    "    Cu = Cu_val[3]\n",
    "\n",
    "print('The coefficient for upper limit on calculated period Cu = ',Cu)\n",
    "    \n",
    "height = ((Nstory - 1)*Hcol + Hcol1)/ft; #in feet\n",
    "\n",
    "T_app = Ct*height**x; print('The approximate building period = ',T_app)\n",
    "T_max = Cu*T_app; print('The maximum allowed building period for design = ', T_max)"
   ]
  },
  {
   "cell_type": "code",
   "execution_count": 13,
   "metadata": {
    "scrolled": true
   },
   "outputs": [
    {
     "name": "stdout",
     "output_type": "stream",
     "text": [
      "The building period for the purpose of computing the seimic forces =  0.6750802882721464\n",
      "Building period T < 3.5 Ts\n"
     ]
    }
   ],
   "source": [
    "# After running modal analysis using the SAP2000 model, the following period was obtained for the frame\n",
    "T_model = 0.69;\n",
    "\n",
    "# for the purpose of computing the seismic forces, T should not exceed T_max\n",
    "if T_model > T_max:\n",
    "    T1 = T_max\n",
    "else:\n",
    "    T1 = T_model\n",
    "print('The building period for the purpose of computing the seimic forces = ',T1)\n",
    "\n",
    "# Permitted analysis procedure\n",
    "T_cond = 3.5*TS;\n",
    "\n",
    "if T_model >= T_cond:\n",
    "    print('Building period T > 3.5 Ts')\n",
    "else:\n",
    "    print('Building period T < 3.5 Ts')\n",
    "# because the building height > 160 ft and T > 3.5 Ts, ELF cannot be used as the analysis procedure for design, and Modal \n",
    "# Response Spectrum Analysis is required."
   ]
  },
  {
   "cell_type": "markdown",
   "metadata": {},
   "source": [
    "Note: The nodal masses computed here were distributed to floor nodes, all elements were assigned a zero-mass modifier,and the mass source was defined from the element masses and additional masses.\n"
   ]
  },
  {
   "cell_type": "code",
   "execution_count": 14,
   "metadata": {
    "scrolled": true
   },
   "outputs": [
    {
     "name": "stdout",
     "output_type": "stream",
     "text": [
      "The seismic response coefficient Cs =  0.1435\n",
      "The seismic response coefficient for scaling MRSA drifts =  0.052\n"
     ]
    }
   ],
   "source": [
    "# calculation of the seismic response coefficient\n",
    "Cs = S_DS/(R/I); # The ASCE guide states that this is applicable when T <= Ts\n",
    "\n",
    "if T1<=TL:\n",
    "    Cs_max = S_D1/(T1*R/I)\n",
    "elif T1>TL:\n",
    "    Cs_max = S_D1*TL/(T1**2*R/I)\n",
    "    \n",
    "Cs_min1 = max(0.044*S_DS*I,0.01)\n",
    "    \n",
    "if S1 >= 0.6:\n",
    "    Cs_min2 = 0.5*S1/(R/I) # accounts for near-field effects\n",
    "    \n",
    "Cs_min3 = 0.01;\n",
    "    \n",
    "if Cs> Cs_max:\n",
    "    Cs = Cs_max\n",
    "\n",
    "if Cs < Cs_min1:\n",
    "    Cs = Cs_min1\n",
    "    \n",
    "if Cs < Cs_min2:\n",
    "    Cs = Cs_min2\n",
    "    \n",
    "if Cs < Cs_min3:\n",
    "    Cs = Cs_min3\n",
    "\n",
    "print('The seismic response coefficient Cs = ',round(Cs,5))\n",
    "print('The seismic response coefficient for scaling MRSA drifts = ',round(Cs_min2,3))\n"
   ]
  },
  {
   "cell_type": "markdown",
   "metadata": {},
   "source": [
    "## 3. Equivalent Lateral Force Analysis"
   ]
  },
  {
   "cell_type": "code",
   "execution_count": 15,
   "metadata": {
    "scrolled": true
   },
   "outputs": [
    {
     "name": "stdout",
     "output_type": "stream",
     "text": [
      "Design base shear (1 frame) V =  180.20175406794294\n",
      "Note: if using a 3D model, uncomment the base shear equation for the whole building\n",
      "coefficient k =  1.09\n",
      "ELF forces:\n",
      "The lateral force at level  1  =  36.97\n",
      "The lateral force at level  2  =  61.9\n",
      "The lateral force at level  3  =  81.34\n",
      "Story shears in kips are:  [180.2, 143.24, 81.34]\n",
      "Overturning moment =  6163.08 kip.ft\n"
     ]
    }
   ],
   "source": [
    "# ELF calculations\n",
    "V = Cs*W_frame; # GET THE BASE SHEAR FOR ONE FRAME\n",
    "#V = Cs*W_seismic; #get the base shear for the whole building (3D analysis)\n",
    "print('Design base shear (1 frame) V = ',V)\n",
    "print('Note: if using a 3D model, uncomment the base shear equation for the whole building')\n",
    "\n",
    "\n",
    "# Vertical distribution of seismic forces\n",
    "\n",
    "# compute the distribution factor k\n",
    "perlim = [0.5,2.5];\n",
    "klim = [1.0,2.0];\n",
    "\n",
    "if T1 <= perlim[0]:\n",
    "    k = klim[0];\n",
    "elif T1 > perlim[0] and T1 < perlim[1]:\n",
    "    slope = (klim[1]-klim[0])/(perlim[1] - perlim[0]);\n",
    "    k = klim[0] + slope*(T1 - perlim[0]);\n",
    "elif T1 >= 2.5:\n",
    "    k = 2.0;\n",
    "    \n",
    "print('coefficient k = ',round(k,2))\n",
    "\n",
    "# Compute the lateral forces\n",
    "# Compute story heights\n",
    "h_story = np.empty(Nstory)\n",
    "h_story[0] = Hcol1\n",
    "\n",
    "for n in range(1,Nstory):\n",
    "    h_story[n] = h_story[n-1] + Hcol;\n",
    "#print(h_story)\n",
    "\n",
    "# Prepare all floor weights (for a single frame)\n",
    "w_story = np.empty(Nstory)\n",
    "for n in range(0,Nstory):\n",
    "    if n == 0:\n",
    "        w_story[n] = W_frame_story1\n",
    "    elif n == Nstory-1:\n",
    "        w_story[n] = W_frame_roof\n",
    "    else:\n",
    "        w_story[n] = W_frame_story\n",
    "\n",
    "# Compute the sum wihi\n",
    "sum_wihi = 0.0;\n",
    "for n in range(0,Nstory):\n",
    "    sum_wihi = sum_wihi + w_story[n]*h_story[n]\n",
    "    \n",
    "# compute load factors and loads\n",
    "Cvx = np.empty(Nstory)\n",
    "Fx = np.empty(Nstory)\n",
    "Vx = np.empty(Nstory)\n",
    "Mx = np.empty(Nstory)\n",
    "\n",
    "print('ELF forces:')\n",
    "for n in range(0,Nstory):\n",
    "    Cvx[n] = w_story[n]*h_story[n]/sum_wihi\n",
    "    Fx[n] = Cvx[n]*V # lateral force at each building level\n",
    "    print('The lateral force at level ',n+1,' = ',round(Fx[n],2))\n",
    "    \n",
    "\n",
    "# compute the story shears and overturning moments\n",
    "for n in range(0,Nstory):\n",
    "    Vx[n] = sum(Fx[n:])\n",
    "    Mx[n] = 0.0\n",
    "    for i in range(n,Nstory):\n",
    "        Mx[n] = Mx[n] + Fx[i]*(h_story[i] - h_story[n])\n",
    "    #print(Mx[n])\n",
    "print('Story shears in kips are: ',[round(i,2) for i in Vx])\n",
    "    \n",
    "Mx_base = 0.0;\n",
    "for i in range(0,Nstory):\n",
    "    Mx_base += Fx[i]*h_story[i]\n",
    "print('Overturning moment = ',round(Mx_base/12,2),'kip.ft')\n"
   ]
  },
  {
   "cell_type": "code",
   "execution_count": 16,
   "metadata": {
    "scrolled": true
   },
   "outputs": [
    {
     "data": {
      "image/png": "[encoded data removed]",
      "text/plain": [
       "<Figure size 432x288 with 1 Axes>"
      ]
     },
     "metadata": {
      "needs_background": "light"
     },
     "output_type": "display_data"
    }
   ],
   "source": [
    "# Plot the story shears\n",
    "\n",
    "plt.step(Vx,h_story/ft);\n",
    "plt.xlabel('Story shear (kips)');\n",
    "plt.ylabel('height (ft)');\n",
    "plt.title('Building Story Shears');"
   ]
  },
  {
   "cell_type": "code",
   "execution_count": 17,
   "metadata": {
    "scrolled": true
   },
   "outputs": [],
   "source": [
    "# Compute moments due to lateral loads\n",
    "## Using approximate portal frame analysis. Get out your pen and paper, mate\n",
    "\n",
    "# Maximum beam moments at first floor due to seismic lateral loads\n",
    "#M_beam_E_manual = *kip*ft; # positive or negative, obviously\n",
    "\n",
    "# Maximum interior column moments at first floor due to seismic lateral loads\n",
    "#M_col_E_manual = *kip*ft; # positive or negative, obviously"
   ]
  },
  {
   "cell_type": "code",
   "execution_count": 18,
   "metadata": {
    "scrolled": true
   },
   "outputs": [],
   "source": [
    "# Results of the SAP2000 analysis model - 2D analysis\n",
    "# Note: the model has rigid member offsets\n",
    "\n",
    "# Maximum beam moments at first floor due to seismic lateral loads\n",
    "#M_beam_E = *kip*ft; # positive or negative, obviously\n",
    "\n",
    "# Maximum interior column moments at first floor due to seismic lateral loads\n",
    "#M_col_E = *kip*ft; # positive or negative, obviously"
   ]
  },
  {
   "cell_type": "markdown",
   "metadata": {},
   "source": [
    "Basic strength design load combination\n",
    "\n",
    "(1) $1.2 D + 1.6 L$\n",
    "\n",
    "(2) $1.2 D + 0.5 L \\pm 1.0 E$\n",
    "\n",
    "(3) $0.9 D \\pm 1.0 E$\n",
    "\n",
    "Earthquake load effect\n",
    "\n",
    "$E = \\rho Q_E \\pm 0.2 S_{DS} D$\n",
    "\n",
    "The second and third load combinations become:\n",
    "\n",
    "(2) $(1.2 + 0.2 S_{DS}) D + 0.5 L \\pm Q_E$\n",
    "\n",
    "(3) $(0.9 - 0.2 S_{DS}) D \\pm Q_E$\n",
    "\n",
    "No need for seismic load combinations with overstrength"
   ]
  },
  {
   "cell_type": "code",
   "execution_count": 19,
   "metadata": {
    "scrolled": true
   },
   "outputs": [
    {
     "name": "stdout",
     "output_type": "stream",
     "text": [
      "DL factor in combinations 2 and 3 =  1.5446\n",
      "DL factor in combinations 4 and 5 =  0.5554\n"
     ]
    }
   ],
   "source": [
    "# Preliminary Beam Design\n",
    "#def Ultimate_beam(beam,DL_pos,DL_neg,LL_pos,LL_neg,E):\n",
    "    # This function determines the ultimate design load effects for beams\n",
    "    # note that the positive DL and LL value is only used in load combo 1, because it occurs mid-span, and the negative DL\n",
    "    # and LL values are used for the other load combos because they occur at the end (along with the seismic load maxima)\n",
    "    #Mu1 = 1.2*DL_pos + 1.6*LL_pos; # mid-span\n",
    "    #Mu2 = (1.2 + 0.2*S_DS)*DL_neg + 0.5*LL_neg + 1.0*E;\n",
    "    #Mu3 = (1.2 + 0.2*S_DS)*DL_neg + 0.5*LL_neg - 1.0*E;\n",
    "    #Mu4 = (0.9 - 0.2*S_DS)*DL_neg + 1.0*E;\n",
    "    #Mu5 = (0.9 - 0.2*S_DS)*DL_neg - 1.0*E;\n",
    "\n",
    "    #Mu_mid = Mu1; print('Utimate moment in mid span of beam',beam,' = ',Mu_mid/12,' kip.ft')\n",
    "    #Mu_end_max = max(Mu2,Mu3,Mu4,Mu5); print('Maximum ultimate moment at end of beam',beam,' = ',Mu_end_max/12,' kip.ft')\n",
    "    #Mu_end_min = min(Mu2,Mu3,Mu4,Mu5); print('Minimum ultimate moment at end of beam',beam,' = ',Mu_end_min/12,' kip.ft')\n",
    "    #return [Mu_mid,Mu_end_max,Mu_end_min];\n",
    "\n",
    "#Ultimate_beam(1,M_DL_pos,M_DL_neg,M_LL_pos,M_LL_neg,M_beam_E)\n",
    "\n",
    "# just fyi\n",
    "print('DL factor in combinations 2 and 3 = ',1.2 + 0.2*S_DS)\n",
    "print('DL factor in combinations 4 and 5 = ',0.9 - 0.2*S_DS)"
   ]
  },
  {
   "cell_type": "markdown",
   "metadata": {},
   "source": [
    "## 4. Accidental Torsion Check"
   ]
  },
  {
   "cell_type": "code",
   "execution_count": 20,
   "metadata": {
    "scrolled": true
   },
   "outputs": [],
   "source": [
    "# Accidental torsion moments - if needed.\n",
    "# The building is symmetric so no torsional irregularity but accidental torsion needs to be considered\n",
    "# Acciodental torsional moment at each floor is equal to the story force multiplied by 5% the story width perpendicular to\n",
    "# the loading direction\n",
    "# tor = np.empty(Nstory);\n",
    "# arm = 0.05*Wbayx*Nbayx;\n",
    "# for i in range(0,Nstory):\n",
    "#     tor[i] = Fx[i]*arm\n",
    "\n",
    "# print('Accidental torsional moments in kip.ft [floors 1 through 12]:')\n",
    "# print(tor/12)\n",
    "# print('total torsional reaction should be ',sum(tor[:]))"
   ]
  },
  {
   "cell_type": "markdown",
   "metadata": {},
   "source": [
    "Accidental Torsion\n",
    "- Accidental torsion check was not performed for this building.\n",
    "- It is unlikely that the building has a torsional irregularity, but the standard requires that an accidental torsion check be performed using a 3D model with acceidental torsion (typically in a static analysis).\n",
    "- Instead of applying the calculated torsional moments, the ELF forces are applied in the model with a 0.05 eccentricity.\n",
    "- Since the building is symmetric, the check is performed in the x-direction only.\n",
    "- The torsional amplification factor $A_x$ is 1.0 for checking accidental torsion.\n",
    "- If no torsional irregularity exists, which is the case here, then the accidental torsion moments need not be included in the design.\n",
    "\n",
    "Loading direction:\n",
    "- for design category E: columns that are part of two intersecting seismic-force resisting systems, and are subjected to seismic axial force >= 20% of the axial design strength need to be designed for 100% of the seismic force in one direction + 30% of the force in the other direction. This will be checked later."
   ]
  },
  {
   "cell_type": "code",
   "execution_count": 21,
   "metadata": {
    "scrolled": true
   },
   "outputs": [],
   "source": [
    "# # Because the building is symmetric and the diaphragm is rigid, no twisting was observed in the model when the ELF forces\n",
    "# # were applied with no eccentricity\n",
    "\n",
    "# # Joint displacements at edges of the building (lateral ELF forces + accidental torsion)\n",
    "# disp1 = [0,0.494321,0.966106,1.432285,1.883094,2.310996,2.709401,3.071836,3.39195,3.663511,3.880666,4.038851,4.140045]\n",
    "# disp2 = [0,0.602176,1.177589,1.745587,2.29419,2.814257,3.297819,3.737046,4.124253,4.451884,4.712842,4.901603,5.02068]\n",
    "\n",
    "# #interstory drifts\n",
    "# drift1 = np.empty(Nstory)\n",
    "# drift2 = np.empty(Nstory)\n",
    "\n",
    "\n",
    "# for i in range(1,Nstory+1):\n",
    "#     drift1[i-1] = disp1[i] - disp1[i-1]\n",
    "#     drift2[i-1] = disp2[i] - disp2[i-1]\n",
    "\n",
    "# print('drifts at 1st edge = \\n',drift1)\n",
    "# print('drifts at 2nd edge = \\n',drift2)\n",
    "\n",
    "\n",
    "# # check for torsional irregularity\n",
    "# # ratio of maximum to average drifts\n",
    "# tor_ratio = np.empty(Nstory)\n",
    "# max_drift = np.empty(Nstory)\n",
    "# avg_drift = np.empty(Nstory)\n",
    "# for i in range(0,Nstory):\n",
    "#     avg_drift[i] = (drift1[i] + drift2[i])/2\n",
    "#     max_drift[i] = max(drift1[i],drift2[i])\n",
    "#     tor_ratio[i] = max_drift[i]/avg_drift[i]\n",
    "#     if tor_ratio[i] > 1.2 and tor_ratio[i] <= 1.4:\n",
    "#         print('TORSIONAL IRREGULARITY EXISTS')\n",
    "#     elif tor_ratio[i] > 1.4:\n",
    "#         print('EXTREME TORSIONAL IRREGULARITY EXISTS')\n",
    "\n",
    "# print('average drifts are = \\n',avg_drift)\n",
    "# print('Ratios of maximum to average drifts are = \\n',tor_ratio)"
   ]
  },
  {
   "cell_type": "markdown",
   "metadata": {},
   "source": [
    "## 5. Modal Response Spectrum Analysis (was not performed for this building)"
   ]
  },
  {
   "cell_type": "code",
   "execution_count": 22,
   "metadata": {
    "scrolled": true
   },
   "outputs": [],
   "source": [
    "# # Scaling of the base shear and member forces\n",
    "# # section 12.9.1.4 of ASCE 7-16 requires scaling of MRSA forces if they are less than 100% of the calculated base shear\n",
    "# # using ELF procedure\n",
    "# V_mrsa = *kip; #base shear obtained from MRS\n",
    "# scalefac = V/V_mrsa;\n",
    "# print('The design member forces need to be scaled by ',round(scalefac,3))\n",
    "\n",
    "# # MRSA story shears (from SAP model)\n",
    "\n",
    "# Vx_mrsa = [855.168,818.826,771.853,726.917,682.459,635.756,587.354,534.118,472.433,398.894,300.021,162.329]\n",
    "\n",
    "# Vx_design = [round(scalefac*i,1) for i in Vx_mrsa]\n",
    "# print('The design story shears in kips are ',Vx_design)\n",
    "\n",
    "# # ratio of design shears (scaled MRSA) to ELF shears\n",
    "# shear_ratios = np.empty(len(Vx))\n",
    "# for i in range(0,len(Vx)):\n",
    "#     shear_ratios[i] = round(Vx_design[i]/Vx[i],2)\n",
    "# print('Just fyi, the ratios of the design story shear (scaled MRSA) to the story shears predicted by ELF are: \\n',\\\n",
    "# shear_ratios)\n"
   ]
  },
  {
   "cell_type": "markdown",
   "metadata": {},
   "source": [
    "## 6. Story Drift Checks"
   ]
  },
  {
   "cell_type": "code",
   "execution_count": 23,
   "metadata": {
    "scrolled": false
   },
   "outputs": [
    {
     "name": "stdout",
     "output_type": "stream",
     "text": [
      "The scale factor for drift checks is  1.0\n",
      "elastic drifts = \n",
      " [0.3997 0.3129 0.2006]\n",
      "inelastic drifts = \n",
      " [2.19835, 1.72095, 1.1033]\n",
      "design(scaled) drifts = \n",
      " [2.19835, 1.72095, 1.1033]\n",
      "Amplified drift ratios (by C_d) are \n",
      " [1.018 1.103 0.707]\n",
      "The interstory drift ratios (after scaling, if needed) are: \n",
      " [1.018, 1.103, 0.707]\n",
      "story 1 pass\n",
      "story 2 pass\n",
      "story 3 pass\n"
     ]
    },
    {
     "data": {
      "image/png": "[encoded data removed]",
      "text/plain": [
       "<Figure size 432x288 with 1 Axes>"
      ]
     },
     "metadata": {
      "needs_background": "light"
     },
     "output_type": "display_data"
    }
   ],
   "source": [
    "# Drift checks\n",
    "#import xlrd\n",
    "\n",
    "#drift_scalefac = Cs_min2*W_seismic/V_mrsa\n",
    "drift_scalefac = 1.0 # because MRSA analysis was not used\n",
    "print('The scale factor for drift checks is ',drift_scalefac)\n",
    "drift_limit = 2.0 #percent of the story height (table 12.12-1)\n",
    "\n",
    "story_disp = [0,0.3997,0.7126,0.9132]\n",
    "# these are from the SAP ELF analysis\n",
    "\n",
    "drift_e = np.empty(Nstory)\n",
    "\n",
    "for i in range(1,len(story_disp)):\n",
    "    drift_e[i-1] = story_disp[i] - story_disp[i-1]\n",
    "print('elastic drifts = \\n',drift_e)\n",
    "\n",
    "# Design drifts\n",
    "drift = [Cd/I*i for i in drift_e]\n",
    "print('inelastic drifts = \\n',drift)\n",
    "\n",
    "scaled_drift = [i*drift_scalefac for i in drift]\n",
    "print('design(scaled) drifts = \\n',scaled_drift)\n",
    "\n",
    "# now compute the drift ratios\n",
    "drift_ratio = np.empty(len(drift))\n",
    "for i in range(0,len(drift)):\n",
    "    drift_ratio[i] = round(drift[i]/Lstory[i]*100,3)\n",
    "\n",
    "print('Amplified drift ratios (by C_d) are \\n',drift_ratio)\n",
    "    \n",
    "scaled_drift_ratio = [drift_scalefac*i for i in drift_ratio]\n",
    "print('The interstory drift ratios (after scaling, if needed) are: \\n',scaled_drift_ratio)\n",
    "\n",
    "for i in range(0,len(drift)):\n",
    "    if scaled_drift_ratio[i] <= drift_limit:\n",
    "        print('story',i+1,'pass')\n",
    "    else:\n",
    "        print('story',i+1,'fail')\n",
    "\n",
    "plt.plot(story_disp[1:],h_story/12);\n",
    "plt.plot([Cd/I*i for i in story_disp[1:]],h_story/12);\n",
    "plt.legend(['Elastic','Amplified Cd = 5.5']);\n",
    "plt.xlabel('Total deflection (inches)');\n",
    "plt.ylabel('Height (ft)');"
   ]
  },
  {
   "cell_type": "markdown",
   "metadata": {},
   "source": [
    "## 7. Soft Story Irregularity Check\n",
    "- Having a soft-story irregularity will not impact the design because we are using MRSA for design anyway. Having an extreme soft-story irregularity is prohibited in Seismic Design Category E.\n",
    "- Vertical structural irregularities types 1a, 1b or 2 (table 12.3-) do not apply when no story drift ratio under design lateral load is greater than 130% of the drift ratio of the next story above. The drift ratio between the top two stories is not required to be evaluated. This was satisfied for this building, so the soft story check was not performed."
   ]
  },
  {
   "cell_type": "code",
   "execution_count": 24,
   "metadata": {
    "scrolled": true
   },
   "outputs": [
    {
     "name": "stdout",
     "output_type": "stream",
     "text": [
      "ratios between the interstory drift of each story to the story above (except last two): \n",
      " [0.92293744]\n"
     ]
    }
   ],
   "source": [
    "ratio_story_above = np.empty(Nstory - 2)\n",
    "for i in range(0,Nstory-2):\n",
    "    ratio_story_above[i] = drift_ratio[i]/drift_ratio[i+1]\n",
    "    if ratio_story_above[i] > 1.3:\n",
    "        print('A story stiffness check needs to be performed to check for vertical soft-story irregularity')\n",
    "print('ratios between the interstory drift of each story to the story above (except last two): \\n',ratio_story_above)\n",
    "\n"
   ]
  },
  {
   "cell_type": "code",
   "execution_count": 25,
   "metadata": {
    "scrolled": true
   },
   "outputs": [],
   "source": [
    "# # Story stiffness check\n",
    "# # story drifts from each individual analysis on SAP (NOT THE SAME ANALYSIS)\n",
    "# soft_check_dr = [0.2202 - 0.0925, 0.1985 - 0.085, 0.1947 - 0.0824, 0.1924 - 0.0804, 0.1905 - 0.0787, 0.1887 - 0.0771,\\\n",
    "#                 0.1871 - 0.0758, 0.1857 - 0.0745, 0.1839 - 0.073, 0.1805 - 0.0697, 0.1705 - 0.0591, 0.1462 - 0.0 ]\n",
    "# lateral_force = 100.0;\n",
    "# story_stiffness = [lateral_force/i for i in soft_check_dr]\n",
    "\n",
    "# story_stiffness_ratio = np.empty(len(story_stiffness)-1)\n",
    "# story_stiffness_ratio_avg = np.empty(len(story_stiffness)-3)\n",
    "# for i in range(0,len(story_stiffness)-1):\n",
    "#     story_stiffness_ratio[i] = story_stiffness[i]/story_stiffness[i+1]\n",
    "#     if story_stiffness_ratio[i] < 0.7 and story_stiffness_ratio[i] > 0.6:\n",
    "#         print('A soft story irregularity exists...')\n",
    "#     elif story_stiffness_ratio[i] < 0.6:\n",
    "#         print('OH NO an extreme soft story irregularity exists...')\n",
    "    \n",
    "# for i in range(0,len(story_stiffness)-3):\n",
    "#     story_stiffness_ratio_avg[i] = story_stiffness[i]/((story_stiffness[i+1] + story_stiffness[i+2] + story_stiffness[i+3])/3)\n",
    "#     if story_stiffness_ratio_avg[i] < 0.8 and story_stiffness_ratio[i] > 0.7:\n",
    "#         print('A soft story irregularity exists...')\n",
    "#     elif story_stiffness_ratio[i] < 0.7:\n",
    "#         print('OH NO an extreme soft story irregularity exists...')\n",
    "    \n",
    "# print('The ratios of each story stiffness to the story above: \\n',story_stiffness_ratio)\n",
    "# print('The ratios of each story stiffness to the average of the three stories above: \\n',story_stiffness_ratio_avg)"
   ]
  },
  {
   "cell_type": "markdown",
   "metadata": {},
   "source": [
    "## 8. P-Delta Stability Check\n",
    "- P-Delta effects need not be considered in the analysis if the stability coefficient for each floor is less than the maximum allowed stability coefficient.\n",
    "- ASCE 7-16 requires that P-Delta stability check be performed using ELF forces"
   ]
  },
  {
   "cell_type": "code",
   "execution_count": 26,
   "metadata": {
    "scrolled": true
   },
   "outputs": [
    {
     "name": "stdout",
     "output_type": "stream",
     "text": [
      "The limit on the stability coefficient is : 0.0909\n",
      "The dead load on each story (per frame) is:  [513.05166667 500.44333333 467.66166667]\n",
      "The live load on each story is:  [115.2  115.2   46.08]\n",
      "The total unfactored axial load on each story in kips is \n",
      " [1757.63666667 1129.385       513.74166667]\n",
      "The stability coefficient for each story is: \n",
      " [0.018, 0.016, 0.008]\n",
      "moment magnification for each story (IF NEEDED) is: \n",
      " [1.018, 1.016, 1.008]\n"
     ]
    }
   ],
   "source": [
    "# maximum stability coefficient\n",
    "theta_max1 = 0.1\n",
    "theta_max2 = min(0.5/(1.*Cd),0.25)\n",
    "theta_max = min(theta_max1,theta_max2)\n",
    "print('The limit on the stability coefficient is :',round(theta_max,4))\n",
    "\n",
    "\n",
    "DL_story = np.empty(Nstory)\n",
    "#DL weight on each story (per frame - if 2D analysis is used)\n",
    "for i in range(0,Nstory):\n",
    "    DL_story[i] = floorDL_frame;\n",
    "    if i == 0:\n",
    "        DL_story[i] = floorDL1_frame;\n",
    "    elif i == Nstory-1:\n",
    "        DL_story[i] = floorDLr_frame;\n",
    "        \n",
    "print('The dead load on each story (per frame) is: ',DL_story)\n",
    "        \n",
    "LL_story = np.empty(Nstory)\n",
    "#LL weight on each story\n",
    "for i in range(0,Nstory):\n",
    "    LL_story[i] = LL*frame_area;\n",
    "    if i == Nstory-1:\n",
    "        LL_story[i] = LL_r*frame_area;\n",
    "print('The live load on each story is: ',LL_story)\n",
    "\n",
    "# compute the total axial load above each story\n",
    "P_story = np.empty(Nstory)\n",
    "theta_story = np.empty(Nstory)\n",
    "for i in range(0,Nstory):\n",
    "    P_story[i] = np.sum(DL_story[i:]) + np.sum(LL_story[i:])\n",
    "print('The total unfactored axial load on each story in kips is \\n',P_story)\n",
    "    \n",
    "for i in range(0,Nstory):\n",
    "    theta_story[i] = P_story[i]*drift[i]*I/(Vx[i]*Lstory[i]*Cd)\n",
    "    if theta_story[i] > theta_max:\n",
    "        print('P-DELTA EFFECTS NEED TO BE CONSIDERED...')\n",
    "    \n",
    "print('The stability coefficient for each story is: \\n',[round(i,3) for i in theta_story])\n",
    "\n",
    "mag = [round(max(1/(1-i),1),3) for i in theta_story]\n",
    "\n",
    "print('moment magnification for each story (IF NEEDED) is: \\n',mag)\n",
    "\n",
    "        "
   ]
  },
  {
   "cell_type": "markdown",
   "metadata": {},
   "source": [
    "## 9. Structural Design of Frame Members\n",
    "- Beams are designed first, because the beam capacity affects the design of the column and beam-column joint\n",
    "- Beam reinforcement is critical to ensure ductility (plastic hinging at the end of the beam)\n",
    "- ACI 318 requires the beam width to be at least 75% of the column width to consider the beam-column joints confined.\n",
    "- The design shears are based on the probable moment strength of the beam joint, as detailed in ACI 318 section 18.6.5\n",
    "- The design shear strength of concrete must be taken as zero where axial force is small (less than 5% of the axial capacity) and where $V_E/V_u$ is larger than 0.5 ($V_E$ is the shear force due to the probable moment strength, and $V_u$ is the ultimate design shear at the joint including the shear due to the probable moment and factored gravity loads) - concrete design shear strength is assumed to be zero for all beams.\n",
    "\n",
    "Other beam design requirements that need to be satisfied\n",
    "- minimum two bars continous top and bottom\n",
    "- positive moment strength greater than 50% negative moment strength at a joint\n",
    "- minimum strength along member greater than 25% maximum strength\n",
    "\n",
    "beam-column joint checks\n",
    "- the joint shear demand is computed based on the probable moment strength of the beam.\n",
    "- Here, the shear in the joint is computed as a function of the shear in the columm and tension/compression couple contributed by the beam moments\n",
    "- refer to ACI 318 section 18.7.5.4 for the required amount of transverse reinforcement in the joint"
   ]
  },
  {
   "cell_type": "code",
   "execution_count": 27,
   "metadata": {
    "scrolled": true
   },
   "outputs": [],
   "source": [
    "# scaling factors\n",
    "design_phi_conc = 0.9;\n",
    "nominal_phi_conc = 1.0;\n",
    "prob_phi_conc = 1.0;\n",
    "\n",
    "design_phi_st = 1.0;\n",
    "nominal_phi_st = 1.0;\n",
    "prob_phi_st = 1.25;"
   ]
  },
  {
   "cell_type": "markdown",
   "metadata": {},
   "source": [
    "### 9.1 Column Slenderness Analysis\n",
    "\n",
    "- slenderness effects can be neglected if:\n",
    "\n",
    "$\\frac{k L}{r} <= 22$ for columns not braced against sidesway\n",
    "\n",
    "$ \\frac{k L}{r} <= 34 + 12(M_1/M_2)$ and $\\frac{k l}{r} <= 40$ for columns braced against sidesway\n",
    "\n",
    "where:\n",
    "\n",
    "- k is the effective length factor, estimated from the Jackson and Moreland Alignment Charts (shown below)\n",
    "- L is the column length\n",
    "- r is the radius of gyration $ r = \\sqrt{\\frac{I_g}{A_g}}$ or approximated as 0.3 times the dimension in the direction stability is being considered for rectangular columns.\n",
    "- $M_1/M_2$ is the ratio between the moments at the column ends; negative if the column is in single curvature and postitive for double curvature.\n",
    "- columns are considered braced against sidesway when bracing elements have a total lateral stiffness of at least 12 times the gross stiffness of the columns within the story.\n",
    "\n",
    "\n",
    "If slenderness cannot be neglected: design must include second order effects in one of the following ways:\n",
    "\n",
    "- multiply first-order moments by a moment magnifier (ACI 318-14 provides different methods for non- and sway frames in section 6.6.4)\n",
    "- elastic second-order analysis, or\n",
    "- inelastic second order analysis.\n",
    "\n",
    "Note: magnified second-order moments cannot exceed 1.4 first order moments.\n",
    "\n",
    "\n",
    "Here I am using a P-Delta analysis in SAP2000 3D model, because it is the simplest method. Make sure to divide the column members along their length in the model to account for member curvature second order effects.\n",
    "\n",
    "This frame is designated as a sway frame because no walls or other lateral bracing elements are present (although ACI 318 permits columns to be designed as part of a non-sway frame if the increase in column end moments due to second-order effects does not exceed 5% of first-order end moments)"
   ]
  },
  {
   "cell_type": "markdown",
   "metadata": {},
   "source": [
    "<img src=\"Alignment Charts.jpg\">"
   ]
  },
  {
   "cell_type": "markdown",
   "metadata": {},
   "source": [
    "In the alignment charts, $\\psi_A$ and $\\psi_B$ represent the ratio $\\sum EI/L_c$ the columns to $\\sum EI/L_b$ of the beams at each end of the column. $L_b$ and $L_c$ are the beam and column spans measured center-line to center-line."
   ]
  },
  {
   "cell_type": "code",
   "execution_count": 28,
   "metadata": {},
   "outputs": [
    {
     "name": "stdout",
     "output_type": "stream",
     "text": [
      "The columns/beam stiffness ratios (psi) for column  1  top and bottom are  4.52  and  1.0\n",
      "Look up the effective length factor k in the alignment charts...\n"
     ]
    }
   ],
   "source": [
    "##################################################################################################\n",
    "############################# RELATIVE STIFFNESS RATIO CALCULATOR #########################################\n",
    "##################################################################################################\n",
    "# this function is related to finding the relative stiffness ratios used for evaluating column slenderness. The function\n",
    "# is NOT used in the design process (the slenderness check is done manually because it has a lot of nuances). However, \n",
    "# you can use this function as a calculator of the stiffness factors for each column individually to aid the calculations.\n",
    "\n",
    "# IT IS ASSUMED THAT THE MODULUS OF ELASTICITY E IS THE SAME FOR BEAMS AND COLUMNS\n",
    "def stiffness_ratios(col_group,intorext,btm_bound,top_bound,bcol,dcol,Lcol,bcol_top,dcol_top,Lcol_top,\\\n",
    "                     bcol_btm,dcol_btm,Lcol_btm,bbeam,hbeam,Lbeam,I_reduction_col,I_reduction_beam):\n",
    "    # col_group: group number of the column considered\n",
    "    # intorext: whether the column considered is interior or exterior. options are 'int' and 'ext'\n",
    "    # btm_bound: the bottm bounday condition - options are 'fixed' or 'beam' (i.e. connected to a beam)\n",
    "    # top_bound: the bottm bounday condition - options are 'fixed' or 'beam' (i.e. connected to a beam)\n",
    "    # bcol,dcol,Lcol: dimensions of the column under consideration\n",
    "    # bcol_top,dcol_top,Lcol_top: dimensions of the column connecting at the top end\n",
    "    # bcol_btm,dcol_btm,Lcol_btm: dimensions of the column connecting at the bottom end (if fixed, the value does not matter)\n",
    "    # bbeam,dbeam,Lbeam: dimensions of the connecting beam(s)\n",
    "    # I_reduction_col,I_reduction_beam: reduction factors for the moment of interia of beams and columns (already established)\n",
    "\n",
    "    Icol = I_reduction_col*bcol*dcol**3/12\n",
    "    Icol_top = I_reduction_col*bcol_top*dcol_top**3/12\n",
    "    Icol_btm = I_reduction_col*bcol_btm*dcol_btm**3/12\n",
    "    Ibeam = I_reduction_beam*bbeam*hbeam**3/12\n",
    "\n",
    "    if intorext == 'int':\n",
    "        nbeams = 2\n",
    "    elif intorext == 'ext':\n",
    "        nbeams = 1\n",
    "\n",
    "    if btm_bound == 'fixed':\n",
    "        psi_btm = 1.0\n",
    "    else:\n",
    "         psi_btm = (Icol_btm/Lcol_btm + Icol/Lcol)/(nbeams*Ibeam/Lbeam);\n",
    "\n",
    "    if top_bound == 'fixed':\n",
    "        psi_top = 1.0\n",
    "    else:\n",
    "         psi_top = (Icol_top/Lcol_top + Icol/Lcol)/(nbeams*Ibeam/Lbeam);\n",
    "    \n",
    "    print('The columns/beam stiffness ratios (psi) for column ',col_group,' top and bottom are ',round(psi_top,2)\\\n",
    "          ,' and ',round(psi_btm,2))\n",
    "    print('Look up the effective length factor k in the alignment charts...')\n",
    "    \n",
    "# for example: first floor exterior column\n",
    "bcol_top = bcol\n",
    "dcol_top = dcol\n",
    "Hcol_top = Hcol\n",
    "bcol_btm = 0; # fixed\n",
    "dcol_btm = 0\n",
    "Hcol_btm = 0\n",
    "stiffness_ratios(1,'ext','fixed','beam',bcol,dcol,Hcol1,bcol_top,dcol_top,Hcol_top,\\\n",
    "                     bcol_btm,dcol_btm,Hcol_btm,bbeam,hbeam,Lbeam,I_reduction_col,I_reduction_beam)"
   ]
  },
  {
   "cell_type": "markdown",
   "metadata": {},
   "source": [
    "### 9.2 Member forces"
   ]
  },
  {
   "cell_type": "markdown",
   "metadata": {},
   "source": [
    "#### 9.2.1 Column design actions"
   ]
  },
  {
   "cell_type": "code",
   "execution_count": 29,
   "metadata": {
    "scrolled": true
   },
   "outputs": [
    {
     "name": "stdout",
     "output_type": "stream",
     "text": [
      "COLUMN DESIGN ACTIONS:\n",
      "\n",
      "the maximum factored axial load on each column group is [590.5]\n",
      "the minimum factored axial load on each column group is [201.4]\n",
      "Note: COLUMN MOMENTS ARE BASED ON SECOND ORDER ANALYSIS ARE USED BECAUSE THE ANALYSIS SHOWED THAT\n",
      "SLENDERNESS EFFECTS MUST BE CONSIDERED - MEANING THAT SECOND ORDER MOMENTS NEED TO BE INCLUDED\n",
      "Second order (or magnified) column moments are: [4844.7]\n",
      "the required moment capacity of the column is taken to be the maximum of the strong column-weak beam \n",
      "asumption moments, and second-order moments from factored loads \n",
      "\n",
      "ratio of second to first order column moments are (D + L + E): [1.047]\n",
      "ratio of second to first order column moments are (D + E): [1.028]\n"
     ]
    }
   ],
   "source": [
    "# The structural members are grouped into one group for beams, and one group for columns\n",
    "floor_assign = [1]\n",
    "\n",
    "#Column groups\n",
    "col_groups = [1]\n",
    "Pu_D_L = [541.1]\n",
    "Pu_D_L_E = [590.5]\n",
    "Pu_D_E = [201.4]\n",
    "\n",
    "# first order moments\n",
    "Mu_D_L_E_lin = [4627.9] # may not be used because the column design is based on the beam nominal moment capacity\n",
    "Mu_D_E_lin = [4590.9]\n",
    "\n",
    "# second order moments (based on P-delta analysis on SAP2000)\n",
    "Mu_D_L_E = [4844.7]# not going to be used because the column design is based on the beam nominal moment capacity\n",
    "Mu_D_E = [4718.8]\n",
    "\n",
    "ratio1 = np.empty(len(col_groups))\n",
    "ratio2 = np.empty(len(col_groups))\n",
    "# check that second order moments are not more than 1.4 first order moments\n",
    "for i in range(0,len(col_groups)):\n",
    "    ratio1[i] = Mu_D_L_E[i]/Mu_D_L_E_lin[i]\n",
    "    if ratio1[i] > 1.4:\n",
    "        print(\"Unacceptably high P-Delta effect - REDESIGN COLUMNS OF GROUP \",i)\n",
    "        \n",
    "    ratio2[i] = Mu_D_E[i]/Mu_D_E_lin[i]\n",
    "    if ratio2[i] > 1.4:\n",
    "        print(\"Unacceptably high P-Delta effect - REDESIGN COLUMNS OF GROUP \",i)\n",
    "\n",
    "# Column design actions\n",
    "print('COLUMN DESIGN ACTIONS:\\n')\n",
    "Pu_max = np.empty(len(col_groups))\n",
    "Pu_min = np.empty(len(col_groups))\n",
    "\n",
    "for i in range(0,len(col_groups)):\n",
    "    Pu_max[i] = max(Pu_D_L[i],Pu_D_L_E[i],Pu_D_E[i])\n",
    "    Pu_min[i] = min(Pu_D_L[i],Pu_D_L_E[i],Pu_D_E[i])\n",
    "\n",
    "print('the maximum factored axial load on each column group is',Pu_max)\n",
    "print('the minimum factored axial load on each column group is',Pu_min)\n",
    "\n",
    "# get the column design moments\n",
    "print(\"\"\"Note: COLUMN MOMENTS ARE BASED ON SECOND ORDER ANALYSIS ARE USED BECAUSE THE ANALYSIS SHOWED THAT\n",
    "SLENDERNESS EFFECTS MUST BE CONSIDERED - MEANING THAT SECOND ORDER MOMENTS NEED TO BE INCLUDED\"\"\")\n",
    "Mu_col = np.empty(len(col_groups))\n",
    "mag_Mu_col = np.empty(len(col_groups))\n",
    "\n",
    "for i in range(0,len(col_groups)):\n",
    "    Mu_col[i] = max(Mu_D_L_E[i],Mu_D_E[i])\n",
    " #   mag_Mu_col[i] = Mu_col[i]*mag[floor_assign[i]-1]\n",
    "    mag_Mu_col[i] = Mu_col[i] # this is the value used for the rest of the design process - since P-Delta effects are\n",
    "    # accounted for using second order analysis, no magnification is needed - magnify if using first order analysis\n",
    "\n",
    "print('Second order (or magnified) column moments are:',mag_Mu_col)\n",
    "print(\"\"\"the required moment capacity of the column is taken to be the maximum of the strong column-weak beam \n",
    "asumption moments, and second-order moments from factored loads \\n\"\"\")\n",
    "\n",
    "print(\"ratio of second to first order column moments are (D + L + E):\",[round(i,3) for i in ratio1])\n",
    "print(\"ratio of second to first order column moments are (D + E):\",[round(i,3) for i in ratio2])\n"
   ]
  },
  {
   "cell_type": "markdown",
   "metadata": {},
   "source": [
    "#### 9.2.2 Beam design actions"
   ]
  },
  {
   "cell_type": "code",
   "execution_count": 30,
   "metadata": {},
   "outputs": [
    {
     "name": "stdout",
     "output_type": "stream",
     "text": [
      "BEAM DESIGN ACTIONS:\n",
      "\n",
      "The design end-span negative moments are:  [-5431.2]\n",
      "The design end-span positive moments are:  [2073.2]\n"
     ]
    }
   ],
   "source": [
    "#Beam groups\n",
    "beam_groups = [1]\n",
    "\n",
    "# first order moments:\n",
    "# Mid-span maxima\n",
    "Mu_D_L_mid = [1945.6]\n",
    "Mu_D_L_E_mid_lin = [2006.7]\n",
    "\n",
    "# end-span maxima\n",
    "Mu_D_L_E_end_pos_lin = [405.6]\n",
    "Mu_D_L_E_end_neg_lin = [-5359.8]\n",
    "Mu_D_E_end_pos_lin = [1996.7]\n",
    "Mu_D_E_end_neg_lin = [-3532.7]\n",
    "\n",
    "#shears\n",
    "V_G_design_lin = [71.1] # shear due to factored gravity load (with the seismic combo factors - (load combo 2))\n",
    "\n",
    "#########################################################################################################\n",
    "# second order moments:\n",
    "# Mid-span maxima\n",
    "Mu_D_L_E_mid = [2522.5]\n",
    "\n",
    "# end-span maxima\n",
    "Mu_D_L_E_end_pos = [482.9]\n",
    "Mu_D_L_E_end_neg = [-5431.2]\n",
    "Mu_D_E_end_pos = [2073.2]\n",
    "Mu_D_E_end_neg = [-3608.5]\n",
    "\n",
    "#shears\n",
    "V_G_design = [71.1] # shear due to factored gravity load (with the seismic combo factors - (load combo 2))\n",
    "\n",
    "print('BEAM DESIGN ACTIONS:\\n')\n",
    "#Beam design moments and shears\n",
    "Mu_mid = np.empty(len(beam_groups))\n",
    "Mu_end_pos = np.empty(len(beam_groups))\n",
    "Mu_end_neg = np.empty(len(beam_groups))\n",
    "Vu = np.empty(len(beam_groups))\n",
    "\n",
    "for i in range(0,len(beam_groups)):\n",
    "    Mu_mid[i] = max(Mu_D_L_mid[i],Mu_D_L_E_mid[i])\n",
    "    Mu_end_neg[i] = min(Mu_D_L_E_end_neg[i],Mu_D_E_end_neg[i])\n",
    "    Mu_end_pos[i] = max(Mu_D_L_E_end_pos[i],Mu_D_E_end_pos[i])\n",
    "    #Vu[i] = max(Vu_D_L_E[i],Vu_D_E[i])\n",
    "    \n",
    "#print('The design mid-span moments are: ',Mu_mid)\n",
    "print('The design end-span negative moments are: ',Mu_end_neg)\n",
    "print('The design end-span positive moments are: ',Mu_end_pos)\n",
    "#print('The design shears are: ',Vu)"
   ]
  },
  {
   "cell_type": "markdown",
   "metadata": {},
   "source": [
    "### 9.3 Beam Design Functions"
   ]
  },
  {
   "cell_type": "markdown",
   "metadata": {},
   "source": [
    "#### 9.3.1 Compute beam effective depth"
   ]
  },
  {
   "cell_type": "code",
   "execution_count": 31,
   "metadata": {
    "scrolled": true
   },
   "outputs": [],
   "source": [
    "def effective_depth(h,ccover,phi_t,phi_l):\n",
    "    # Because the beams are spanning two orthogonal directions, the effective depth is different for each direction\n",
    "    d_EW = h - ccover - phi_t - phi_l/2;\n",
    "    d_NS = h - ccover - phi_t - phi_l - phi_l/2;\n",
    "    d = d_NS # conservatively\n",
    "    return d\n",
    "    # if you change this assumption here, it will change everywhere!"
   ]
  },
  {
   "cell_type": "markdown",
   "metadata": {},
   "source": [
    "#### 9.3.2 Compute T-beam effective width"
   ]
  },
  {
   "cell_type": "code",
   "execution_count": 32,
   "metadata": {
    "scrolled": true
   },
   "outputs": [],
   "source": [
    "def T_beam_flange(int_or_ext,bbeam,Lbeam,tslab):\n",
    "    if int_or_ext == 'int':\n",
    "        # Effective T-beam width for positive moment (ACI 318 6.3.2)\n",
    "        # interior\n",
    "        b_tbeam_int1 = 8*tslab;\n",
    "        clear_span = Lbeam - bbeam\n",
    "        b_tbeam_int2 = clear_span/2; # modify this for non-symmetric geometry\n",
    "        b_tbeam_int3 = clear_span/8;\n",
    "        b_tbeam_int = min(b_tbeam_int1,b_tbeam_int2,b_tbeam_int3)\n",
    "\n",
    "        bf = bbeam + 2*b_tbeam_int; # Effective T-beam width for positive moment for an interior beam\n",
    "    elif int_or_ext == 'ext':\n",
    "        # exterior (one side of web)\n",
    "        b_tbeam_ext1 = 6*tslab;\n",
    "        b_tbeam_ext2 = clear_span/2; # modify this for non-symmetric geometry\n",
    "        b_tbeam_ext3 = clear_span/12;\n",
    "        b_tbeam_ext = min(b_tbeam_ext1,b_tbeam_ext2,b_tbeam_ext3)\n",
    "\n",
    "        bf = bbeam + b_tbeam_ext; # Effective T-beam width for positive moment for an extrerior beam\n",
    "    return bf"
   ]
  },
  {
   "cell_type": "markdown",
   "metadata": {},
   "source": [
    "#### 9.3.3 Compute the nominal capacity of a beam section"
   ]
  },
  {
   "cell_type": "code",
   "execution_count": 33,
   "metadata": {
    "scrolled": true
   },
   "outputs": [],
   "source": [
    "# FLEXURAL REINFORCEMENT FUNCTION\n",
    "import math\n",
    "def beam_Mn(beam,Mu,nbar,phi_l,phi_t,b,h,ccover):\n",
    "    # compute the nominal strength of a beam\n",
    "    d = effective_depth(h,ccover,phi_t,phi_l)\n",
    "    Abar_l = math.pi*phi_l**2/4\n",
    "    As = nbar*Abar_l;\n",
    "    # depth of compression block\n",
    "    a = As*fy/(0.85*fc*b)\n",
    "    #nominal strength\n",
    "    Mn = As*fy*(d - a/2)\n",
    "    \n",
    "    return Mn"
   ]
  },
  {
   "cell_type": "markdown",
   "metadata": {},
   "source": [
    "#### 9.3.4 Design beam flexural reinforcement"
   ]
  },
  {
   "cell_type": "code",
   "execution_count": 34,
   "metadata": {
    "scrolled": true
   },
   "outputs": [],
   "source": [
    "# FLEXURAL REINFORCEMENT FUNCTION\n",
    "import math\n",
    "def beam_reinf(beam,Mu,nbar,phi_l,phi_t,b,h,ccover,bbeam):\n",
    "    # compute the nominal, design and probable strength of a beam\n",
    "    # for positive moments, the beam will be designed as  a T-beam -> width of beam will include the allowed slab flage width\n",
    "    # the probable strength will include the slab reinforcement outside the beam width\n",
    "    # the slab is assumed to be reinforced with minimum reinforcement = 0.002\n",
    "    \n",
    "    d = effective_depth(h,ccover,phi_t,phi_l)\n",
    "    Abar_l = math.pi*phi_l**2/4;\n",
    "    As = nbar*Abar_l;\n",
    "    \n",
    "    # Minimum rft in any beam section (ACI 318 18.6.3.1)\n",
    "    As_min1 = 3*math.sqrt(fc*1000)*bbeam*d/(fy*1000); # the stresses have to be in psi\n",
    "    As_min2 = 200*bbeam*d/(fy*1000)\n",
    "    As_min = max(As_min1,As_min2)\n",
    "\n",
    "    if As < As_min:\n",
    "        print('INCREASE REINFORCEMENT TO SATISFY MINIMUM REQUIRED')\n",
    "    if As/(b*d) > 0.025:\n",
    "        print('THE REINFORCEMENT RATIO EXCEEDS THE MAXIMUM - REDESIGN MEMBER')\n",
    "    # depth of compression block\n",
    "    a = As*fy/(0.85*fc*b)\n",
    "    #nominal strength\n",
    "    Mn = As*fy*(d - a/2)\n",
    "    # design strength\n",
    "    M_design = design_phi_conc*Mn\n",
    "\n",
    "    #probable strength\n",
    "    # slab reinforcement\n",
    "    As_slab = 0.002*tslab*(b-bbeam)\n",
    "    As_prob = As + As_slab;\n",
    "    # depth of compression block\n",
    "    a_prob = As_prob*1.25*fy/(0.85*fc*b)\n",
    "    #probable strength\n",
    "    M_prob = As_prob*1.25*fy*(d - a_prob/2)\n",
    " \n",
    "    print('Ratio of design moment over ultimate moment for beam',beam,'=',round(M_design/abs(Mu),3))\n",
    "    print('design strength = ',round(M_design,1))\n",
    "    print('probable strength = ',round(M_prob,1))\n",
    "    if M_design > abs(Mu):\n",
    "        print('OKAY \\n')\n",
    "    else:\n",
    "        print('REDESIGN \\n')\n",
    "    \n",
    "    # check development length requirements (may control the dimensions of exterior columns)\n",
    "    ldh = (fy*1000*phi_l)/(65*lam*math.sqrt(fc*1000)) # development length for hooked bars\n",
    "    ldh_min1 = 6\n",
    "    ldh_min2 = 8*phi_l\n",
    "\n",
    "    ldh_min = max(ldh_min1,ldh_min2)\n",
    "    if ldh < ldh_min:\n",
    "        ldh = ldh_min\n",
    "\n",
    "    # development lengths for different bars\n",
    "    ld_typ = 2.5*ldh; #straight typical bars\n",
    "    ld_top = 3.25*ldh; # straight top bars\n",
    "\n",
    "    #print('required development length for hooked bars = ',ldh)\n",
    "    #print('required development length for straight typical bars = ',ld_typ)\n",
    "    #print('required development length for straight top bars = ',ld_top)\n",
    "\n",
    "    # column sizing note\n",
    "    # a minimum ratio of 20 is required between the column width and diameter of largest lonitudinal beam bar passing\n",
    "    # through the joint\n",
    "    bcol_min = 20*phi_l\n",
    "    print('Note: The column dimension cannot be less than ',bcol_min,'\\n')\n",
    "\n",
    "    return M_prob"
   ]
  },
  {
   "cell_type": "markdown",
   "metadata": {},
   "source": [
    "#### 9.3.5 Shear design of a beam section"
   ]
  },
  {
   "cell_type": "code",
   "execution_count": 35,
   "metadata": {
    "scrolled": true
   },
   "outputs": [],
   "source": [
    "# SHEAR DESIGN\n",
    "def shear_design(V_design,nlegs,dbar_t,d,dbar_pos,dbar_neg,trans_spacing):\n",
    "    Av = nlegs*math.pi*dbar_t**2/4;\n",
    "    s_beam = 0.75*Av*fy*d/V_design;\n",
    "    s_max1 = d/4\n",
    "    s_max2 = 6*dbar_pos\n",
    "    s_max3 = 6*dbar_neg\n",
    "    \n",
    "    s_max_end = min(s_max1,s_max2,s_max3) # maximum spacing at the beam end region\n",
    "    s_max_all = d/2 # maximum spacing outside the beam end region\n",
    "    \n",
    "    if s_beam >s_max_all:\n",
    "        s_beam = s_max_all\n",
    "        \n",
    "    print('maximum allowed spacing og transverse reinforcement along the beam is',round(s_beam,1))\n",
    "    \n",
    "    if trans_spacing <= s_beam:\n",
    "        print('SUPPLIED TRANSVERSE REINFORCEMENT IS ADEQUATE')\n",
    "        \n",
    "    print('Maximum transverse reinforcement spacing at the beam ends = ',s_max_end,'\\n')\n",
    "    return s_max_end"
   ]
  },
  {
   "cell_type": "markdown",
   "metadata": {},
   "source": [
    "#### 9.3.6 Check the beam-column joint capacity"
   ]
  },
  {
   "cell_type": "code",
   "execution_count": 36,
   "metadata": {
    "scrolled": true
   },
   "outputs": [],
   "source": [
    "# BEAM-COLUMN JOINT CHECK\n",
    "def joint_check(M_prob_neg,M_prob_pos,V_E_design,bcol,dcol,Hcol,dbar_neg,nbar_neg,dbar_pos,nbar_pos):\n",
    "    # internal joint\n",
    "    # shear in the column\n",
    "    V_col = (M_prob_neg + M_prob_pos + 2*V_E_design*dcol/2)/Hcol #note that shear due to gravity loads is not included because\n",
    "    # it is insignificant (except at the end columns where the seismic shear is much less)\n",
    "    # probable forces in the negative moment rft\n",
    "    Abar_neg = math.pi*dbar_neg**2/4\n",
    "    f_bar_neg = nbar_neg*Abar_neg*1.25*fy\n",
    "    # probable forces in the positive moment rft\n",
    "    Abar_pos = math.pi*dbar_pos**2/4\n",
    "    f_bar_pos = nbar_pos*Abar_pos*1.25*fy\n",
    "    # joint shear demand\n",
    "    V_joint = f_bar_neg + f_bar_pos - V_col\n",
    "    \n",
    "    # compute nominal shear strength\n",
    "    ## effective joint area\n",
    "    h_joint = dcol;\n",
    "    if bbeam >= bcol:\n",
    "        w_joint = bcol\n",
    "    else:\n",
    "        w_joint_max1 = bbeam + h_joint\n",
    "        w_joint_max2 = bcol # assuming that the longitudinal axes of the beam and column are on the same plane (i.e., the beam\n",
    "        # is centered on the column)\n",
    "        w_joint = min(w_joint_max1,w_joint_max2)\n",
    "    A_joint = h_joint*w_joint;\n",
    "    # joint shear strength\n",
    "    if bbeam  < 0.75*bcol:\n",
    "        print('joint is not confined')\n",
    "        Vn_joint = 12*lam*math.sqrt(fc*1000)*A_joint/1000\n",
    "    else:\n",
    "        print('it is assumed that joint is confined on three faces or two opposite faces')\n",
    "        Vn_joint = 15*lam*math.sqrt(fc*1000)*A_joint/1000\n",
    "    \n",
    "    V_design_joint = 0.85*Vn_joint\n",
    "    print('ratio of joint probable capacity to demand =',round(V_design_joint/V_joint,2))\n",
    "    if V_design_joint > V_joint:\n",
    "        print('JOINT OKAY')\n",
    "    else:\n",
    "        print('REDESIGN JOINT')"
   ]
  },
  {
   "cell_type": "markdown",
   "metadata": {},
   "source": [
    "#### 9.3.7 Overall beam design function (flexural, shear, joint check)"
   ]
  },
  {
   "cell_type": "code",
   "execution_count": 37,
   "metadata": {
    "scrolled": true
   },
   "outputs": [],
   "source": [
    "# BEAM DESIGN FUNCTION\n",
    "def beam_design(beam,int_or_ext,Mu_pos,Mu_neg,V_G,nbar_pos,nbar_neg,dbar_pos,dbar_neg,bbeam,h,nlegs,dbar_t,ccover,\\\n",
    "               trans_spacing):\n",
    "    \n",
    "    print('DESIGN FOR BEAM',beam)\n",
    "    print('1. FLEXURAL DESIGN')\n",
    "    \n",
    "    # design the beam top and bottom reinforcement, and shear reinforcement\n",
    "    print('reinforcement design for end-negative moments')\n",
    "    # beam widths and depths\n",
    "    M_prob_neg = beam_reinf(beam,Mu_neg,nbar_neg,dbar_neg,dbar_t,bbeam,h,ccover,bbeam)\n",
    "    print('reinforcement design for end-positive moments')\n",
    "    bf = T_beam_flange(int_or_ext,bbeam,Lbeam,tslab)\n",
    "    M_prob_pos = beam_reinf(beam,Mu_pos,nbar_pos,dbar_pos,dbar_t,bf,h,ccover,bbeam)\n",
    "    \n",
    "    print('2. SHEAR DESIGN')\n",
    "    d = effective_depth(h,ccover,dbar_t,dbar_neg) # use d based on the size of the negative rft bars\n",
    "    clear_span = Lbeam - dcol;\n",
    "    V_E_design = (M_prob_neg + M_prob_pos)/clear_span\n",
    "    \n",
    "    V_design_end1 = V_E_design + V_G\n",
    "    V_design_end2  = V_E_design - V_G\n",
    "    V_design = max(abs(V_design_end1),abs(V_design_end2))\n",
    "    print('The design shear for beam ',beam,'= ',round(V_design,1))\n",
    "    # Note: here we will not care about shear design mid-span because we will use the same spacing throughout the beam\n",
    "    s_max_end = shear_design(V_design,nlegs,dbar_t,d,dbar_pos,dbar_neg,trans_spacing)\n",
    "    \n",
    "    print('3. BEAM-COLUMN JOINT CHECK')\n",
    "    joint_check(M_prob_neg,M_prob_pos,V_E_design,bcol,dcol,Hcol,dbar_neg,nbar_neg,dbar_pos,nbar_pos)\n",
    "    print('------------------------------------------------------------------------------------------------------')\n",
    "    return M_prob_neg,M_prob_pos,s_max_end"
   ]
  },
  {
   "cell_type": "markdown",
   "metadata": {},
   "source": [
    "### 9.4. Column design functions"
   ]
  },
  {
   "cell_type": "markdown",
   "metadata": {},
   "source": [
    "#### 9.4.1. Column interaction diagram"
   ]
  },
  {
   "cell_type": "code",
   "execution_count": 38,
   "metadata": {
    "scrolled": true
   },
   "outputs": [],
   "source": [
    "def interact_diagram(col,d_vec,As_vec,bcol,dcol,col_Mn_req,Pu_max,Pu_min):\n",
    "    # assumed parameters\n",
    "    epsu = 0.003;\n",
    "    ety = 0.002;\n",
    "    beta1 = 0.85;\n",
    "    fy_pr = 1.25*fy;\n",
    "\n",
    "    ## 1. Find the depth of the neutral axis c by solving the force equilibrium equation graphically\n",
    "\n",
    "    # loop through different values of NA depths\n",
    "    x = np.arange(dcol/30,1.4*dcol,dcol/200)\n",
    "\n",
    "    Pn = np.empty(len(x))\n",
    "    Mn = np.empty(len(x))\n",
    "    P_design = np.empty(len(x))\n",
    "    M_design_col = np.empty(len(x))\n",
    "    P_pr = np.empty(len(x))\n",
    "    M_pr = np.empty(len(x))\n",
    "    design_phi = np.empty(len(x))\n",
    "    epss = np.empty(len(d_vec))\n",
    "    fs = np.empty(len(d_vec))\n",
    "    fs_pr = np.empty(len(d_vec))\n",
    "\n",
    "    # loop over all values of c\n",
    "    for i in range(0,len(x)):\n",
    "        # loop over all rows of steel and compute strains and stresses for given c\n",
    "        for k in range (0,len(d_vec)):\n",
    "            epss[k] = (x[i] - d_vec[k])/x[i]*epsu\n",
    "            fs[k] = epss[k]*Est\n",
    "            fs_pr[k] = epss[k]*Est\n",
    "            if abs(fs[k]) > fy:\n",
    "                fs[k] = fy*np.sign(fs[k]);\n",
    "            if abs(fs_pr[k]) > fy_pr:\n",
    "                fs_pr[k] = fy_pr*np.sign(fs_pr[k]);\n",
    "        #print(epss)\n",
    "        # compute equilibrium function\n",
    "        Pn[i] = 0.85*fc*beta1*x[i]*bcol + As_vec[0]*fs[0] + As_vec[1]*fs[1] +\\\n",
    "            As_vec[2]*fs[2] + As_vec[3]*fs[3]\n",
    "\n",
    "        # calculate the nominal moment capacity (take moments about the centroid)\n",
    "        Mn[i] = 0.85*fc*beta1*x[i]*bcol*(dcol/2 - (beta1*x[i])/2) + As_vec[0]*fs[0]*(dcol/2 - d_vec[0])\\\n",
    "            + As_vec[1]*fs[1]*(dcol/2 - d_vec[1]) + As_vec[2]*fs[2]*(dcol/2 - d_vec[2])\\\n",
    "            + As_vec[3]*fs[3]*(dcol/2 - d_vec[3])\n",
    "        \n",
    "        # calculate the probable axial and moment strength\n",
    "        P_pr[i] = 0.85*fc*beta1*x[i]*bcol + As_vec[0]*fs_pr[0] + As_vec[1]*fs_pr[1] +\\\n",
    "            As_vec[2]*fs_pr[2] + As_vec[3]*fs_pr[3]\n",
    "        \n",
    "        M_pr[i] = 0.85*fc*beta1*x[i]*bcol*(dcol/2 - (beta1*x[i])/2) + As_vec[0]*fs_pr[0]*(dcol/2 - d_vec[0])\\\n",
    "            + As_vec[1]*fs_pr[1]*(dcol/2 - d_vec[1]) + As_vec[2]*fs_pr[2]*(dcol/2 - d_vec[2])\\\n",
    "            + As_vec[3]*fs_pr[3]*(dcol/2 - d_vec[3])\n",
    "        \n",
    "        # check the tensile strain in the tension rft to determine if the section is: 1. compression-controlled, 2. transition,\n",
    "        # or 3. tension controlled\n",
    "        if abs(epss[-1]) <= ety:\n",
    "            design_phi[i] = 0.65\n",
    "        elif abs(epss[-1]) > ety and abs(epss[-1]) < 0.005:\n",
    "            design_phi[i] = 0.65 + 0.25*(abs(epss[-1]) - ety)/(0.005 - ety)\n",
    "        elif abs(epss[-1]) >= 0.005:\n",
    "            design_phi[i] = 0.9\n",
    "\n",
    "        P_design[i] = Pn[i]*design_phi[i]\n",
    "        M_design_col[i] = Mn[i]*design_phi[i]\n",
    "\n",
    "    ################################################################################\n",
    "    # compute the case of pure compression (to determine maximum allowed axial load)\n",
    "    # subject to compression only -> compression controlled -> phi = 0.65\n",
    "    P_max = 0.65*0.85*fc*(dcol*bcol - np.sum(As_vec)) + fy*np.sum(As_vec)\n",
    "    P_max_allowable = 0.8*P_max # from Table 22.4.2.1 in ACI 318-14\n",
    "\n",
    "    # plot the column interaction diagram\n",
    "    xlimit = 1.1*max(Mn)\n",
    "    plt.figure();\n",
    "    plt.plot(Mn,Pn);\n",
    "    plt.xlim([0,xlimit]);\n",
    "    plt.xlabel('Mn (kip.in)');\n",
    "    plt.ylabel('Pn (kips)');\n",
    "    plt.title('Column '+str(col)+' Interaction Diagram');\n",
    "\n",
    "    plt.plot(M_design_col,P_design);\n",
    "    plt.plot(M_pr,P_pr);\n",
    "\n",
    "    # check adequacy of column\n",
    "    M_design_value1 = np.interp(Pu_max,P_design,M_design_col)\n",
    "    M_design_value2 = np.interp(Pu_min,P_design,M_design_col)\n",
    "    if col_Mn_req < M_design_value1:\n",
    "        if col_Mn_req < M_design_value2:\n",
    "            if Pu_max <= P_max_allowable:\n",
    "                print('COLUMN ',col,' IS ADEQUATE AGAINST AXIAL FORCE AND BENDING MOMENT')\n",
    "            else:\n",
    "                print('REDESIGN COLUMN',col)\n",
    "        else:\n",
    "            print('REDESIGN COLUMN',col)\n",
    "    else:\n",
    "        print('REDESIGN COLUMN',col)\n",
    "\n",
    "    plt.scatter(col_Mn_req,Pu_max)\n",
    "    plt.scatter(col_Mn_req,Pu_min)\n",
    "    \n",
    "    M_pr1 = np.interp(Pu_max,P_pr,M_pr)\n",
    "    M_pr2 = np.interp(Pu_min,P_pr,M_pr)\n",
    "    M_pr_col = max(M_pr1,M_pr2)\n",
    "    print('The maximum probable moment of the column is',round(M_pr_col,0),'\\n')\n",
    "    \n",
    "    if M_pr1 > M_pr2:\n",
    "        plt.scatter(M_pr_col,Pu_max)\n",
    "    else:\n",
    "        plt.scatter(M_pr_col,Pu_min)\n",
    "        \n",
    "    plt.legend(['Nominal Strength','Design Strength','Probable Strength','Mu, Pu_max','Mu, Pu_min']);\n",
    "    \n",
    "    # plot the maximum allowable axial load\n",
    "    plt.plot(M_design_col,[P_max_allowable] * len(M_design_col),linestyle='dashed');\n",
    "    \n",
    "    print(\"\"\"- check that the axial force due to earthquake load in a single direction is less than 20% of \n",
    "    the axial column capacity. Otherwise, the column must be designed for biaxial bending with 100% and 30% \n",
    "    earthquake force \\n\"\"\")\n",
    "    return M_pr_col"
   ]
  },
  {
   "cell_type": "markdown",
   "metadata": {},
   "source": [
    "#### 9.4.2. Column section reinforcement configuration"
   ]
  },
  {
   "cell_type": "code",
   "execution_count": 39,
   "metadata": {},
   "outputs": [],
   "source": [
    "def col_config(ccover,dcol,phi_l_col,phi_t_col):\n",
    "    # based on reinforcement of 12 bars distributed uniformly\n",
    "    Abar_l_col = math.pi*phi_l_col**2/4\n",
    "    \n",
    "    d1 = ccover + phi_t_col + phi_l_col/2\n",
    "    bar_spacing = (dcol - 2*ccover - 2*phi_t_col - phi_l_col)/3\n",
    "    d2 = d1 + bar_spacing\n",
    "    d3 = d2 + bar_spacing\n",
    "    d4 = d3 + bar_spacing\n",
    "    d_vec = [d1,d2,d3,d4]\n",
    "\n",
    "    As1 = 4*Abar_l_col\n",
    "    As2 = 2*Abar_l_col\n",
    "    As3 = 2*Abar_l_col\n",
    "    As4 = 4*Abar_l_col\n",
    "    As_vec = [As1,As2,As3,As4]\n",
    "    return d_vec,As_vec,bar_spacing"
   ]
  },
  {
   "cell_type": "markdown",
   "metadata": {},
   "source": [
    "#### 9.4.3. Column transverse reinforcement"
   ]
  },
  {
   "cell_type": "code",
   "execution_count": 40,
   "metadata": {
    "scrolled": true
   },
   "outputs": [],
   "source": [
    "def transverse_reinf(hoop_s_final,bcol,dcol,Hcol,hbeam,phi_l_col,phi_t_col,bar_spacing,nbar_col,Ag,A_sh,bc,A_ch,clear_h,\\\n",
    "                     M_pr_col,M_prob_neg,M_prob_pos,Pu_max,Pu_min):\n",
    "    # confinement requirements\n",
    "    # tighter spacing is required at the ends of the column over distance l_hoops (ACI 318 section 18.7.5.1)\n",
    "    dist_hoops1 = dcol\n",
    "    dist_hoops2 = (Hcol - hbeam)/6\n",
    "    dist_hoops3 = 18.0\n",
    "    dist_hoops = max(dist_hoops1,dist_hoops2,dist_hoops3)\n",
    "    #print('The distance at the column ends for tighter hoop spacing should be',dist_hoops)\n",
    "\n",
    "    # hoop spacing requirements (ACI 318 section 18.7.5.3)\n",
    "    hoop_s1 = bcol/4\n",
    "    hoop_s2 = 6*phi_l_col\n",
    "    hoop_s3 = 4 + (14 - bar_spacing)/3\n",
    "    if hoop_s3 < 4.0:\n",
    "        hoop_s3 = 4.0\n",
    "    if hoop_s3 > 6.0:\n",
    "        hoop_s3 = 6.0\n",
    "\n",
    "    # transverse reinforcement quantity minimum (ACI 318 section 18.7.5.4)\n",
    "    # concrete strength factors\n",
    "    kn = nbar_col/(nbar_col - 2)\n",
    "    kf = max(fc*1000/25000 + 0.6,1.0)\n",
    "\n",
    "    hoop_s4 = A_sh/(0.3*bc*(Ag/A_ch - 1)*fc/fy)\n",
    "    hoop_s5 = A_sh/(0.09*bc*fc/fy)\n",
    "    hoop_s6 = A_sh/(0.2*kf*kn*bc*Pu_max/(fy*A_ch))\n",
    "\n",
    "    if Pu_max <= 0.3*Ag*fc and fc <= 10.0:\n",
    "        hoop_s_end = math.floor(min(hoop_s1,hoop_s2,hoop_s3,hoop_s4,hoop_s5))\n",
    "    elif Pu_max > 0.3*Ag*fc or fc > 10.0:\n",
    "        hoop_s_end = math.floor(min(hoop_s1,hoop_s2,hoop_s3,hoop_s4,hoop_s5,hoop_s6))\n",
    "\n",
    "    # minimum hoop spacing\n",
    "    print('The maximum allowed hoop spacing over a length of ',round(dist_hoops,1),' at the column ends is',\\\n",
    "          round(hoop_s_end,1),'inches')\n",
    "\n",
    "    # transverse reinforcement beyond the column ends\n",
    "    hoop_s_gen1 = 6\n",
    "    hoop_s_gen2 = 6*phi_l_col\n",
    "    hoop_s_gen = min(hoop_s_gen1,hoop_s_gen2)\n",
    "    print('Beyond',round(dist_hoops,1),'inches, the hoop spacing in the column need not be less than',hoop_s_gen,'inches')\n",
    "    \n",
    "    if hoop_s_final <= hoop_s_gen:\n",
    "        print('COLUMN TRANSVERSE REINFORCEMENT AND SPACING IS SUFFICIENT FOR CONFINEMENT \\n')\n",
    "    else:\n",
    "        print('INCREASE COLUMN TRANSVERSE REINFORCEMENT \\n')\n",
    "\n",
    "    # shear design\n",
    "    # compute the shear due to the probable column moment\n",
    "    V_col1 = 2*M_pr_col/clear_h # using this shear value for design is conservative\n",
    "\n",
    "    # compute the column shear due to the probable beam moments\n",
    "    V_col2 = (M_prob_neg + M_prob_pos)/clear_h # the column shear need not exceed this value.\n",
    "    print('-the column shear based on the column probable moments is',round(V_col1,0))\n",
    "    print('-The column shear need not be more than the shear based on the beam probable moments',round(V_col2,0))\n",
    "    print('-Check that the shear design values are not less than the factored shear determined from the analysis model')\n",
    "\n",
    "    # check adequacy of transeverse rft for shear\n",
    "    # concrete contribution to shear resistance\n",
    "    d_eff_col = dcol - ccover - phi_t_col - phi_l_col/2\n",
    "    if Pu_min <= Ag*fc/20:\n",
    "        Vc = 0.0\n",
    "    else:\n",
    "        Vc = 2*math.sqrt(fc*1000)*bcol*d_eff_col/1000\n",
    "\n",
    "    # contribution of steel\n",
    "    Vs = A_sh*fy*d_eff_col/hoop_s_gen\n",
    "\n",
    "    Vn_col = Vc + Vs\n",
    "    V_design_col = 0.75*Vn_col\n",
    "\n",
    "    if V_design_col >= V_col1:\n",
    "        print('COLUMN SHEAR REINFORCEMENT IS ADEQUATE \\n')\n",
    "    elif V_design_col < V_col1 and V_design_col >= V_col2:\n",
    "        print('COLUMN SHEAR REINFORCEMENT IS ADEQUATE BUT NOT VERY CONSERVATIVE \\n')\n",
    "    elif V_design_col < V_col2:\n",
    "        print('REDESIGN SHEAR REINFORCEMENT \\n')\n",
    "        \n",
    "    return hoop_s_end"
   ]
  },
  {
   "cell_type": "markdown",
   "metadata": {},
   "source": [
    "#### 9.4.2. Overall column design function"
   ]
  },
  {
   "cell_type": "code",
   "execution_count": 41,
   "metadata": {},
   "outputs": [],
   "source": [
    "def col_design(col,beam,Hcol,hbeam,bcol,dcol,ccover,phi_l_col,phi_t_col,nlegs_col,Pu_max,Pu_min,M_prob_neg,M_prob_pos,\\\n",
    "              hoop_s_final,k,mag_Mu_col):\n",
    "    \n",
    "    # Column design function\n",
    "    # the column will be designed for axial load and uniaxial bending (ignoring the orthogonal effects - the validity of this\n",
    "    # approach should be verified later by checking that the axial force due to a )\n",
    "    print('COLUMN',col,'DESIGN: \\n')\n",
    "    \n",
    "    print('1. CHECK NEED FOR SECOND-ORDER ANALYSIS')\n",
    "    # determine whether or not slenderness effects need to be considered\n",
    "    Ag = bcol*dcol\n",
    "    r = math.sqrt(bcol*dcol**3/12/Ag)\n",
    "    clear_h = Hcol - hbeam\n",
    "\n",
    "    # columns are not braced against sidesway\n",
    "    if k*clear_h/r <= 22.0:\n",
    "        print('slenderness effects can be neglected for column',col,'\\n')\n",
    "    else:\n",
    "        print('SLENDERNESS EFFECTS MUST BE CONSIDERED FOR COLUMN',col,'\\n')\n",
    "    \n",
    "    \n",
    "    print('2. DESIGN FOR AXIAL AND FLEXURAL DESIGN')\n",
    "    bc = bcol - 2*ccover # as defined in ACI 318\n",
    "    dc = dcol - 2*ccover\n",
    "    A_ch = bc*dc\n",
    "\n",
    "    Abar_l_col = math.pi*phi_l_col**2/4\n",
    "    Abar_t_col = math.pi*phi_t_col**2/4\n",
    "    A_sh = nlegs_col*Abar_t_col\n",
    "\n",
    "    As_col = nbar_col*Abar_l_col\n",
    "    if As_col < 0.01*Ag:\n",
    "        print('INCREASE COLUMN',col,'REINFORCEMENT TO COMPLY WITH MINIMUM REQUIREMENTS')\n",
    "    elif As_col > 0.06*Ag:\n",
    "        print('REDCUDE COLUMN',col,'REINFORCEMENT - EXCEEDS THE MAXIMUM ALLOWED')\n",
    "        \n",
    "    # obtain the nominal flexural strength of the beams framing into the joint\n",
    "    Mn_neg = beam_Mn(beam,Mu_end_neg[beam-1],nbars_neg[beam-1],dbars_neg[beam-1],dbar_t,bbeams[beam-1],hbeams[beam-1],ccover)\n",
    "    bf = T_beam_flange(int_or_ext,bbeams[beam-1],Lbeam,tslab)\n",
    "    Mn_pos = beam_Mn(beam,Mu_end_pos[beam-1],nbars_pos[beam-1],dbars_pos[beam-1],dbar_t,bf,hbeams[beam-1],ccover)\n",
    "\n",
    "    sum_beam_Mn = Mn_neg + Mn_pos\n",
    "    sum_col_Mn = 6/5*sum_beam_Mn # strong column - weak beam\n",
    "    col_Mn_req = sum_col_Mn/2\n",
    "    col_Moment = max(mag_Mu_col,col_Mn_req) # the required moment capacity of the column is taken to be the maximum of\n",
    "    # the strong column asumption moments, and magnified moments from factored loads\n",
    "\n",
    "    d_vec,As_vec,bar_spacing = col_config(ccover,dcol,phi_l_col,phi_t_col)\n",
    "    M_pr_col = interact_diagram(col,d_vec,As_vec,bcol,dcol,col_Moment,Pu_max,Pu_min)\n",
    "    \n",
    "    print('3. CONFINEMENT REQUIREMENTS AND DESIGN FOR SHEAR')\n",
    "    hoop_s_end = transverse_reinf(hoop_s_final,bcol,dcol,Hcol,hbeam,phi_l_col,phi_t_col,bar_spacing,nbar_col,Ag,A_sh\\\n",
    "                                  ,bc,A_ch,clear_h,M_pr_col,M_prob_neg,M_prob_pos,Pu_max,Pu_min)\n",
    "    print('-------------------------------------------------------------------------------------------------------')\n",
    "    \n",
    "    return hoop_s_end"
   ]
  },
  {
   "cell_type": "markdown",
   "metadata": {},
   "source": [
    "### 9.5 Design of Beams"
   ]
  },
  {
   "cell_type": "code",
   "execution_count": 42,
   "metadata": {
    "scrolled": false
   },
   "outputs": [
    {
     "name": "stdout",
     "output_type": "stream",
     "text": [
      "DESIGN FOR BEAM 1\n",
      "1. FLEXURAL DESIGN\n",
      "reinforcement design for end-negative moments\n",
      "Ratio of design moment over ultimate moment for beam 1 = 1.074\n",
      "design strength =  5833.6\n",
      "probable strength =  8006.1\n",
      "OKAY \n",
      "\n",
      "Note: The column dimension cannot be less than  22.56 \n",
      "\n",
      "reinforcement design for end-positive moments\n",
      "Ratio of design moment over ultimate moment for beam 1 = 1.738\n",
      "design strength =  3602.3\n",
      "probable strength =  7223.2\n",
      "OKAY \n",
      "\n",
      "Note: The column dimension cannot be less than  20.0 \n",
      "\n",
      "2. SHEAR DESIGN\n",
      "The design shear for beam  1 =  129.7\n",
      "maximum allowed spacing og transverse reinforcement along the beam is 7.7\n",
      "SUPPLIED TRANSVERSE REINFORCEMENT IS ADEQUATE\n",
      "Maximum transverse reinforcement spacing at the beam ends =  6.0 \n",
      "\n",
      "3. BEAM-COLUMN JOINT CHECK\n",
      "it is assumed that joint is confined on three faces or two opposite faces\n",
      "ratio of joint probable capacity to demand = 1.92\n",
      "JOINT OKAY\n",
      "------------------------------------------------------------------------------------------------------\n"
     ]
    }
   ],
   "source": [
    "###################################### INPUT THE BEAM GEOMETRY ##########################################\n",
    "bbeams = [22]\n",
    "hbeams = [32]\n",
    "int_or_ext = 'int' # will apply to beams and columns\n",
    "# longitudinal rft using #9 bar\n",
    "# transverse rft using #4 bar\n",
    "ccover = 1.5\n",
    "\n",
    "# reinforcement details for each beam group\n",
    "nbars_neg = [4] # number of bars at the top\n",
    "dbars_neg = [1.128] # diameter of bars at the top\n",
    "\n",
    "nbars_pos = [3] # number of bars at the bottom\n",
    "dbars_pos = [1.0] # diameter of bars at the bottom\n",
    "\n",
    "dbar_t = 0.5 # transverse bar diameter\n",
    "s_beam_final = [6.0] # transverse bar spacing along entire beam\n",
    "nlegs = 4 # number of legs of the transverse rft\n",
    "#########################################################################################################\n",
    "M_prob_neg = np.empty(len(beam_groups))\n",
    "M_prob_pos = np.empty(len(beam_groups))\n",
    "s_max_end = np.empty(len(beam_groups))\n",
    "# call the beam design function\n",
    "for i in range (0,len(beam_groups)):\n",
    "    M_prob_neg[i],M_prob_pos[i],s_max_end[i] = beam_design(beam_groups[i],int_or_ext,Mu_end_pos[i],Mu_end_neg[i],\\\n",
    "                                                           V_G_design[i],nbars_pos[i],nbars_neg[i],dbars_pos[i],\\\n",
    "                                                           dbars_neg[i],bbeams[i],hbeams[i],nlegs,dbar_t,ccover,\\\n",
    "                                                           s_beam_final[i])\n"
   ]
  },
  {
   "cell_type": "markdown",
   "metadata": {},
   "source": [
    "### 9.6 Design of Columns"
   ]
  },
  {
   "cell_type": "code",
   "execution_count": 43,
   "metadata": {
    "scrolled": false
   },
   "outputs": [
    {
     "name": "stdout",
     "output_type": "stream",
     "text": [
      "Get the effective length factor k using section 9.1 of this document to evaluate column slenderness. \n",
      "\n",
      "-------------------------------------------------------------------------------------------------------\n",
      "COLUMN 1 DESIGN: \n",
      "\n",
      "1. CHECK NEED FOR SECOND-ORDER ANALYSIS\n",
      "SLENDERNESS EFFECTS MUST BE CONSIDERED FOR COLUMN 1 \n",
      "\n",
      "2. DESIGN FOR AXIAL AND FLEXURAL DESIGN\n",
      "COLUMN  1  IS ADEQUATE AGAINST AXIAL FORCE AND BENDING MOMENT\n",
      "The maximum probable moment of the column is 13644.0 \n",
      "\n",
      "- check that the axial force due to earthquake load in a single direction is less than 20% of \n",
      "    the axial column capacity. Otherwise, the column must be designed for biaxial bending with 100% and 30% \n",
      "    earthquake force \n",
      "\n",
      "3. CONFINEMENT REQUIREMENTS AND DESIGN FOR SHEAR\n",
      "The maximum allowed hoop spacing over a length of  30.7  at the column ends is 4 inches\n",
      "Beyond 30.7 inches, the hoop spacing in the column need not be less than 6 inches\n",
      "COLUMN TRANSVERSE REINFORCEMENT AND SPACING IS SUFFICIENT FOR CONFINEMENT \n",
      "\n",
      "-the column shear based on the column probable moments is 148.0\n",
      "-The column shear need not be more than the shear based on the beam probable moments 83.0\n",
      "-Check that the shear design values are not less than the factored shear determined from the analysis model\n",
      "COLUMN SHEAR REINFORCEMENT IS ADEQUATE \n",
      "\n",
      "-------------------------------------------------------------------------------------------------------\n"
     ]
    },
    {
     "data": {
      "image/png": "[encoded data removed]",
      "text/plain": [
       "<Figure size 432x288 with 1 Axes>"
      ]
     },
     "metadata": {
      "needs_background": "light"
     },
     "output_type": "display_data"
    }
   ],
   "source": [
    "# columns design\n",
    "#ccover = 1.5 # clear cover\n",
    "\n",
    "bcols = [bcol] # widths of columns\n",
    "dcols = [dcol] # depth of columns\n",
    "dbar_l_col = [1.0] # diameter of longitudinal bars\n",
    "nbar_col = 12 # number of longitudinal bars distributed uniformly\n",
    "dbar_t_col = 0.5 # diameter of transverse bars\n",
    "hoop_s_final = [4] # spacing of hoops along the entire column (will be checked against minima)\n",
    "nlegs_col = 4 # number of transverse bars legs\n",
    "\n",
    "Hcols = [Hcol1]\n",
    "hoop_s_end = np.empty(len(col_groups)) # transverse reinforcement spacing at column ends\n",
    "\n",
    "print(\"Get the effective length factor k using section 9.1 of this document to evaluate column slenderness. \\n\")\n",
    "print(\"-------------------------------------------------------------------------------------------------------\")\n",
    "k_vec = [1.57] # effective length factor, calculated based on the chart in ACI 318-14 R6.2.5\n",
    "# note: these k factors should be the factors for the \"edge\" columns, which are more critical than the interior columns \n",
    "# because they are only bounded by one beam\n",
    "\n",
    "for i in range(0,len(col_groups)):    \n",
    "    hoop_s_end[i] = col_design(col_groups[i],beam_groups[i],Hcols[i],hbeams[i],bcols[i],dcols[i],ccover,\\\n",
    "                               dbar_l_col[i],dbar_t_col,nlegs_col,Pu_max[i],Pu_min[i],M_prob_neg[i],M_prob_pos[i],\\\n",
    "                               hoop_s_final[i],k_vec[i],mag_Mu_col[i])\n",
    "\n"
   ]
  },
  {
   "cell_type": "markdown",
   "metadata": {},
   "source": [
    "### 9.7. Summary of Member Designs"
   ]
  },
  {
   "cell_type": "code",
   "execution_count": 44,
   "metadata": {
    "scrolled": false
   },
   "outputs": [
    {
     "name": "stdout",
     "output_type": "stream",
     "text": [
      "DESIGN OF BEAMS:\n",
      "- BEAM 1 GROUP:\n",
      "Dimensions: 22 inches by 32 inches\n",
      "Longitudinal rft: 4 bars of 1.128 inch diameter bars at the top\n",
      "Longitudinal rft: 3 bars of 1.0 inch diameter bars at the bottom\n",
      "Transverse rft: 4 legs of 0.5 inch diameter bars at 6.0 inch spacing, with reduced 6.0 inch spacing at beam ends \n",
      "\n",
      "----------------------------------------------------------------------------------------------------------------\n",
      "DESIGN OF COLUMNS:\n",
      "- COLUMN 1 GROUP:\n",
      "Dimensions: 28.0 inches by 28.0 inches\n",
      "Longitudinal rft: 12 bars of 1.0 inch diameter bars distributed uniformly\n",
      "Transverse rft: 4 legs of 0.5 inch diameter bars at 4 inch spacing, with reduced 4.0 inch spacing at column ends \n",
      "\n"
     ]
    }
   ],
   "source": [
    "# Summarize all member designs\n",
    "print('DESIGN OF BEAMS:')\n",
    "for i in range(0,len(beam_groups)):\n",
    "    print('- BEAM',i+1,'GROUP:')\n",
    "    print('Dimensions:',bbeams[i],'inches by',hbeams[i],'inches')\n",
    "    print('Longitudinal rft:',nbars_neg[i],'bars of',dbars_neg[i],'inch diameter bars at the top')\n",
    "    print('Longitudinal rft:',nbars_pos[i],'bars of',dbars_pos[i],'inch diameter bars at the bottom')\n",
    "    print('Transverse rft:',nlegs,'legs of',dbar_t,'inch diameter bars at',s_beam_final[i],'inch spacing, with reduced',\\\n",
    "          s_max_end[i],'inch spacing at beam ends \\n')\n",
    "print('----------------------------------------------------------------------------------------------------------------') \n",
    "print('DESIGN OF COLUMNS:')\n",
    "for i in range(0,len(col_groups)):\n",
    "    print('- COLUMN',i+1,'GROUP:')\n",
    "    print('Dimensions:',bcols[i],'inches by',dcols[i],'inches')\n",
    "    print('Longitudinal rft:',nbar_col,'bars of',dbar_l_col[i],'inch diameter bars distributed uniformly')\n",
    "    print('Transverse rft:',nlegs_col,'legs of',dbar_t_col,'inch diameter bars at',hoop_s_final[i],\\\n",
    "          'inch spacing, with reduced',hoop_s_end[i],'inch spacing at column ends \\n')"
   ]
  }
 ],
 "metadata": {
  "kernelspec": {
   "display_name": "Python 3",
   "language": "python",
   "name": "python3"
  },
  "language_info": {
   "codemirror_mode": {
    "name": "ipython",
    "version": 3
   },
   "file_extension": ".py",
   "mimetype": "text/x-python",
   "name": "python",
   "nbconvert_exporter": "python",
   "pygments_lexer": "ipython3",
   "version": "3.6.8"
  }
 },
 "nbformat": 4,
 "nbformat_minor": 2
}
